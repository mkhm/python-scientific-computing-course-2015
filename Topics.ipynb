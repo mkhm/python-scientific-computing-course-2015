{
 "cells": [
  {
   "cell_type": "markdown",
   "metadata": {},
   "source": [
    "#Topics:\n",
    "- ###Basics\n",
    "    - Introduction to Programming\n",
    "    - Introducing IDE: Wing IDE, PyScripter, Ninja IDE, Spider, PyCharm\n",
    "    - IPython: interactive computing\n",
    "    - ***<font color='Blue'>Basics of Python Programming (lists, tuples, dictionaries, loops, data types, operators, if statements, functions, try-catch, …)</font>***\n",
    "    - Python Object Oriented Programming\n",
    "    - Input and Output (I/O)\n",
    "    - Packages and applications\n",
    "- ###Advanced  \n",
    "    - Manipulating numerical data with NumPy\n",
    "    - Plotting with Matplotlib in details\n",
    "    - Network Analysis with NetworkX\n",
    "    - Data Analysis with Pandas\n",
    "    - Introduction to HPC (PyPy, NumExpr, multiprocessing, Cython, Numba)"
   ]
  },
  {
   "cell_type": "code",
   "execution_count": null,
   "metadata": {
    "collapsed": false
   },
   "outputs": [],
   "source": []
  }
 ],
 "metadata": {
  "kernelspec": {
   "display_name": "Python 2",
   "language": "python",
   "name": "python2"
  },
  "language_info": {
   "codemirror_mode": {
    "name": "ipython",
    "version": 2
   },
   "file_extension": ".py",
   "mimetype": "text/x-python",
   "name": "python",
   "nbconvert_exporter": "python",
   "pygments_lexer": "ipython2",
   "version": "2.7.8"
  }
 },
 "nbformat": 4,
 "nbformat_minor": 0
}
