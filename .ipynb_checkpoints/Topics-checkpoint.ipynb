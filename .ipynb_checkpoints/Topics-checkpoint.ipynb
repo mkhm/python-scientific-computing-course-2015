{
 "metadata": {
  "name": "",
  "signature": "sha256:2be1346ddffa716ecc04091e6ed1cee7ee11e40101a5547102edad568296a74d"
 },
 "nbformat": 3,
 "nbformat_minor": 0,
 "worksheets": [
  {
   "cells": [
    {
     "cell_type": "markdown",
     "metadata": {},
     "source": [
      "#Topics:\n",
      "- ###Basics\n",
      "    - Introduction to Programming\n",
      "    - Introducing IDE: Wing IDE, PyScripter, Ninja IDE, Spider, PyCharm\n",
      "    - IPython: interactive computing\n",
      "    - ***<font color='Blue'>Basics of Python Programming (lists, tuples, dictionaries, loops, data types, operators, if statements, functions, try-catch, \u2026)</font>***\n",
      "    - Python Object Oriented Programming\n",
      "    - Input and Output (I/O)\n",
      "    - Packages and applications\n",
      "- ###Advanced  \n",
      "    - Manipulating numerical data with NumPy\n",
      "    - Plotting with Matplotlib in details\n",
      "    - Data Analysis with Pandas\n",
      "    - Introduction to HPC (PyPy, NumExpr, multiprocessing, Cython, Numba)"
     ]
    },
    {
     "cell_type": "code",
     "collapsed": false,
     "input": [],
     "language": "python",
     "metadata": {},
     "outputs": []
    }
   ],
   "metadata": {}
  }
 ]
}