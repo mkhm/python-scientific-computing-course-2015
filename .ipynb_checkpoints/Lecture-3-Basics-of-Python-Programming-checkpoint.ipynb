{
 "metadata": {
  "name": "",
  "signature": "sha256:2f0a3cfefbe093c3fa3af3f22598b88bc017532fd9c82ce86b6bd72f12915692"
 },
 "nbformat": 3,
 "nbformat_minor": 0,
 "worksheets": [
  {
   "cells": [
    {
     "cell_type": "heading",
     "level": 1,
     "metadata": {},
     "source": [
      "Basics of Python Programming"
     ]
    },
    {
     "cell_type": "heading",
     "level": 1,
     "metadata": {},
     "source": [
      "Lists"
     ]
    },
    {
     "cell_type": "code",
     "collapsed": false,
     "input": [
      "# Accessing Values in Lists:\n",
      "list1 = ['physics', 'chemistry', 1997, 2000];\n",
      "list2 = [1, 2, 3, 4, 5, 6, 7 ];\n",
      "\n",
      "print \"list1[0]: \", list1[0]\n",
      "print \"list2[1:5]: \", list2[1:5]"
     ],
     "language": "python",
     "metadata": {},
     "outputs": [
      {
       "output_type": "stream",
       "stream": "stdout",
       "text": [
        "list1[0]:  physics\n",
        "list2[1:5]:  [2, 3, 4, 5]\n"
       ]
      }
     ],
     "prompt_number": 12
    },
    {
     "cell_type": "code",
     "collapsed": false,
     "input": [
      "print \"Value available at index 2 : \"\n",
      "print list1[2];\n",
      "list[2] = 2001;\n",
      "print \"New value available at index 2 : \"\n",
      "print list1[2];"
     ],
     "language": "python",
     "metadata": {},
     "outputs": [
      {
       "output_type": "stream",
       "stream": "stdout",
       "text": [
        "Value available at index 2 : \n",
        "1997\n",
        "New value available at index 2 : \n",
        "1997\n"
       ]
      }
     ],
     "prompt_number": 19
    },
    {
     "cell_type": "code",
     "collapsed": false,
     "input": [
      "days_of_the_week = [\"Sunday\",\"Monday\",\"Tuesday\",\"Wednesday\",\"Thursday\",\"Friday\",\"Saturday\"]\n",
      "for day in days_of_the_week:\n",
      "    print day"
     ],
     "language": "python",
     "metadata": {},
     "outputs": [
      {
       "output_type": "stream",
       "stream": "stdout",
       "text": [
        "Sunday\n",
        "Monday\n",
        "Tuesday\n",
        "Wednesday\n",
        "Thursday\n",
        "Friday\n",
        "Saturday\n"
       ]
      }
     ],
     "prompt_number": 1
    },
    {
     "cell_type": "code",
     "collapsed": false,
     "input": [
      "list1 = ['physics', 'chemistry', 1997, 2000]\n",
      "\n",
      "print list1\n",
      "del list1[2]\n",
      "print \"After deleting value at index 2 : \"\n",
      "print list1\n",
      "\n",
      "print \n",
      "print 'remove:'\n",
      "\n",
      "list1 = ['physics', 'chemistry', 1997, 2000]\n",
      "list1.remove('chemistry')\n",
      "print list1;"
     ],
     "language": "python",
     "metadata": {},
     "outputs": [
      {
       "output_type": "stream",
       "stream": "stdout",
       "text": [
        "['physics', 'chemistry', 1997, 2000]\n",
        "After deleting value at index 2 : \n",
        "['physics', 'chemistry', 2000]\n",
        "\n",
        "remove:\n",
        "['physics', 1997, 2000]\n"
       ]
      }
     ],
     "prompt_number": 32
    },
    {
     "cell_type": "code",
     "collapsed": false,
     "input": [
      "list2 = ['salam', 'aleyk', 'bye'];\n",
      "list1+list2"
     ],
     "language": "python",
     "metadata": {},
     "outputs": [
      {
       "metadata": {},
       "output_type": "pyout",
       "prompt_number": 34,
       "text": [
        "['physics', 'chemistry', 1997, 2000, 'salam', 'aleyk', 'bye']"
       ]
      }
     ],
     "prompt_number": 34
    },
    {
     "cell_type": "code",
     "collapsed": false,
     "input": [
      "list1*3"
     ],
     "language": "python",
     "metadata": {},
     "outputs": [
      {
       "metadata": {},
       "output_type": "pyout",
       "prompt_number": 36,
       "text": [
        "['physics',\n",
        " 'chemistry',\n",
        " 1997,\n",
        " 2000,\n",
        " 'physics',\n",
        " 'chemistry',\n",
        " 1997,\n",
        " 2000,\n",
        " 'physics',\n",
        " 'chemistry',\n",
        " 1997,\n",
        " 2000]"
       ]
      }
     ],
     "prompt_number": 36
    },
    {
     "cell_type": "code",
     "collapsed": false,
     "input": [
      "print list1\n",
      "len(list1)"
     ],
     "language": "python",
     "metadata": {},
     "outputs": [
      {
       "output_type": "stream",
       "stream": "stdout",
       "text": [
        "['physics', 'chemistry', 1997, 2000]\n"
       ]
      },
      {
       "metadata": {},
       "output_type": "pyout",
       "prompt_number": 14,
       "text": [
        "4"
       ]
      }
     ],
     "prompt_number": 14
    },
    {
     "cell_type": "code",
     "collapsed": false,
     "input": [
      "list3 = [1,2,6,22,5,7,99,2,6,99,6,1,1,1,1]\n",
      "print 'max: ', max(list3)\n",
      "print 'min: ', min(list3)"
     ],
     "language": "python",
     "metadata": {},
     "outputs": [
      {
       "output_type": "stream",
       "stream": "stdout",
       "text": [
        "max:  99\n",
        "min:  1\n"
       ]
      }
     ],
     "prompt_number": 37
    },
    {
     "cell_type": "code",
     "collapsed": false,
     "input": [
      "print 'count 22: ', list3.count(22)\n",
      "list3.append(22)\n",
      "print 'count 22: ', list3.count(22)\n",
      "print 'index of 22: ', list3.index(22)\n",
      "list3.insert(3, 1000000)\n",
      "print list3"
     ],
     "language": "python",
     "metadata": {},
     "outputs": [
      {
       "output_type": "stream",
       "stream": "stdout",
       "text": [
        "count 22:  4\n",
        "count 22:  5\n",
        "index of 22:  6\n",
        "[1, 2, 6, 1000000, 1000000, 1000000, 1000000, 22, 5, 7, 99, 2, 6, 99, 6, 1, 1, 1, 1, 22, 22, 22, 22]\n"
       ]
      }
     ],
     "prompt_number": 41
    },
    {
     "cell_type": "code",
     "collapsed": false,
     "input": [
      "aList = [123, 'xyz', 'YYY', 'zara', 'abc'];\n",
      "\n",
      "print \"A List : \", aList.pop();\n",
      "print aList\n",
      "print \"B List : \", aList.pop(2);\n",
      "print aList"
     ],
     "language": "python",
     "metadata": {},
     "outputs": [
      {
       "output_type": "stream",
       "stream": "stdout",
       "text": [
        "A List :  abc\n",
        "[123, 'xyz', 'YYY', 'zara']\n",
        "B List :  YYY\n",
        "[123, 'xyz', 'zara']\n"
       ]
      }
     ],
     "prompt_number": 25
    },
    {
     "cell_type": "code",
     "collapsed": false,
     "input": [
      "aList.reverse()\n",
      "aList"
     ],
     "language": "python",
     "metadata": {},
     "outputs": [
      {
       "metadata": {},
       "output_type": "pyout",
       "prompt_number": 26,
       "text": [
        "['zara', 'xyz', 123]"
       ]
      }
     ],
     "prompt_number": 26
    },
    {
     "cell_type": "code",
     "collapsed": false,
     "input": [
      "print list3\n",
      "list3.sort()\n",
      "print list3\n",
      "list3.sort(reverse=False)\n",
      "print list3\n",
      "list3.sort(reverse=True)\n",
      "print list3"
     ],
     "language": "python",
     "metadata": {},
     "outputs": [
      {
       "output_type": "stream",
       "stream": "stdout",
       "text": [
        "[1, 1, 1, 1, 1, 2, 2, 5, 6, 6, 6, 7, 22, 22, 99, 99, 1000000]\n",
        "[1, 1, 1, 1, 1, 2, 2, 5, 6, 6, 6, 7, 22, 22, 99, 99, 1000000]\n",
        "[1, 1, 1, 1, 1, 2, 2, 5, 6, 6, 6, 7, 22, 22, 99, 99, 1000000]\n",
        "[1000000, 99, 99, 22, 22, 7, 6, 6, 6, 5, 2, 2, 1, 1, 1, 1, 1]\n"
       ]
      }
     ],
     "prompt_number": 28
    },
    {
     "cell_type": "heading",
     "level": 2,
     "metadata": {},
     "source": [
      "String as a list"
     ]
    },
    {
     "cell_type": "code",
     "collapsed": false,
     "input": [
      "s = 'Hello World!'\n",
      "\n",
      "print s          # Prints complete string\n",
      "print s[0]       # Prints first character of the string\n",
      "print s[5]       # Prints first character of the string\n",
      "print s[2:5]     # Prints characters starting from 3rd to 5th\n",
      "print s[2:]      # Prints string starting from 3rd character\n",
      "print s * 2      # Prints string two times\n",
      "print s + \"TEST\" # Prints concatenated string"
     ],
     "language": "python",
     "metadata": {},
     "outputs": [
      {
       "output_type": "stream",
       "stream": "stdout",
       "text": [
        "Hello World!\n",
        "H\n",
        " \n",
        "llo\n",
        "llo World!\n",
        "Hello World!Hello World!\n",
        "Hello World!TEST\n"
       ]
      }
     ],
     "prompt_number": 33
    },
    {
     "cell_type": "heading",
     "level": 1,
     "metadata": {},
     "source": [
      "Tuples"
     ]
    },
    {
     "cell_type": "markdown",
     "metadata": {},
     "source": [
      "Tuples can be thought of as ***read-only*** lists."
     ]
    },
    {
     "cell_type": "code",
     "collapsed": false,
     "input": [
      "tuple1 = ('physics', 'chemistry', 2000, 'physics', 'chemistry', 2000)\n",
      "print tuple1\n",
      "list_1 = list(tuple1)\n",
      "print list_1\n",
      "t1 = tuple(list_1)\n",
      "print t1"
     ],
     "language": "python",
     "metadata": {},
     "outputs": [
      {
       "output_type": "stream",
       "stream": "stdout",
       "text": [
        "('physics', 'chemistry', 2000, 'physics', 'chemistry', 2000)\n",
        "['physics', 'chemistry', 2000, 'physics', 'chemistry', 2000]\n",
        "('physics', 'chemistry', 2000, 'physics', 'chemistry', 2000)\n"
       ]
      }
     ],
     "prompt_number": 42
    },
    {
     "cell_type": "heading",
     "level": 1,
     "metadata": {},
     "source": [
      "Dictionary"
     ]
    },
    {
     "cell_type": "code",
     "collapsed": false,
     "input": [
      "dict = {'Alice': '2341', 'Beth': '9102', 'Cecil': '3258', 50: 37 , 66:'ali'}"
     ],
     "language": "python",
     "metadata": {},
     "outputs": [],
     "prompt_number": 45
    },
    {
     "cell_type": "code",
     "collapsed": false,
     "input": [
      "dict = {'Name': 'Ali', 'Age': 7, 'Class': 'First'}\n",
      "\n",
      "print \"dict['Name']: \", dict['Name']\n",
      "print \"dict['Age']: \", dict['Age']"
     ],
     "language": "python",
     "metadata": {},
     "outputs": [
      {
       "output_type": "stream",
       "stream": "stdout",
       "text": [
        "dict['Name']:  Ali\n",
        "dict['Age']:  7\n"
       ]
      }
     ],
     "prompt_number": 58
    },
    {
     "cell_type": "code",
     "collapsed": false,
     "input": [
      "dict['Age'] = 8; # update existing entry\n",
      "dict['School'] = \"DPS School\"; # Add new entry\n",
      "\n",
      "print \"dict['Age']: \", dict['Age']\n",
      "print \"dict['School']: \", dict['School']"
     ],
     "language": "python",
     "metadata": {},
     "outputs": [
      {
       "output_type": "stream",
       "stream": "stdout",
       "text": [
        "dict['Age']:  8\n",
        "dict['School']:  DPS School\n"
       ]
      }
     ],
     "prompt_number": 59
    },
    {
     "cell_type": "code",
     "collapsed": false,
     "input": [
      "dict = {'Name': 'Zara', 'Age': 7, 'Class': 'First'};\n",
      "\n",
      "del dict['Name']; # remove entry with key 'Name'\n",
      "dict.clear();     # remove all entries in dict\n",
      "del dict ;        # delete entire dictionary\n",
      "\n",
      "print \"dict['Age']: \", dict['Age'];\n",
      "print \"dict['School']: \", dict['School'];"
     ],
     "language": "python",
     "metadata": {},
     "outputs": [
      {
       "output_type": "stream",
       "stream": "stdout",
       "text": [
        " dict['Age']: "
       ]
      },
      {
       "ename": "TypeError",
       "evalue": "'type' object has no attribute '__getitem__'",
       "output_type": "pyerr",
       "traceback": [
        "\u001b[1;31m---------------------------------------------------------------------------\u001b[0m\n\u001b[1;31mTypeError\u001b[0m                                 Traceback (most recent call last)",
        "\u001b[1;32m<ipython-input-47-50456edc9878>\u001b[0m in \u001b[0;36m<module>\u001b[1;34m()\u001b[0m\n\u001b[0;32m      5\u001b[0m \u001b[1;32mdel\u001b[0m \u001b[0mdict\u001b[0m \u001b[1;33m;\u001b[0m        \u001b[1;31m# delete entire dictionary\u001b[0m\u001b[1;33m\u001b[0m\u001b[0m\n\u001b[0;32m      6\u001b[0m \u001b[1;33m\u001b[0m\u001b[0m\n\u001b[1;32m----> 7\u001b[1;33m \u001b[1;32mprint\u001b[0m \u001b[1;34m\"dict['Age']: \"\u001b[0m\u001b[1;33m,\u001b[0m \u001b[0mdict\u001b[0m\u001b[1;33m[\u001b[0m\u001b[1;34m'Age'\u001b[0m\u001b[1;33m]\u001b[0m\u001b[1;33m;\u001b[0m\u001b[1;33m\u001b[0m\u001b[0m\n\u001b[0m\u001b[0;32m      8\u001b[0m \u001b[1;32mprint\u001b[0m \u001b[1;34m\"dict['School']: \"\u001b[0m\u001b[1;33m,\u001b[0m \u001b[0mdict\u001b[0m\u001b[1;33m[\u001b[0m\u001b[1;34m'School'\u001b[0m\u001b[1;33m]\u001b[0m\u001b[1;33m;\u001b[0m\u001b[1;33m\u001b[0m\u001b[0m\n",
        "\u001b[1;31mTypeError\u001b[0m: 'type' object has no attribute '__getitem__'"
       ]
      }
     ],
     "prompt_number": 47
    },
    {
     "cell_type": "code",
     "collapsed": false,
     "input": [
      "dict = {'Name': 'Zara', 'Age': 7, 'Name': 'Manni'};\n",
      "\n",
      "print \"dict['Name']: \", dict['Name'];"
     ],
     "language": "python",
     "metadata": {},
     "outputs": [
      {
       "output_type": "stream",
       "stream": "stdout",
       "text": [
        " dict['Name']:  Manni\n"
       ]
      }
     ],
     "prompt_number": 61
    },
    {
     "cell_type": "code",
     "collapsed": false,
     "input": [
      "tinydict = {'name': 'john','code':6734, 'dept': 'sales'}\n",
      "print tinydict['name']       # Prints value for 'one' key\n",
      "print tinydict          # Prints complete dictionary\n",
      "print tinydict.keys()   # Prints all the keys\n",
      "print tinydict.values() # Prints all the values"
     ],
     "language": "python",
     "metadata": {},
     "outputs": [
      {
       "output_type": "stream",
       "stream": "stdout",
       "text": [
        "john\n",
        "{'dept': 'sales', 'code': 6734, 'name': 'john'}\n",
        "['dept', 'code', 'name']\n",
        "['sales', 6734, 'john']\n"
       ]
      }
     ],
     "prompt_number": 65
    },
    {
     "cell_type": "code",
     "collapsed": false,
     "input": [
      "tinydict.clear()\n",
      "print tinydict"
     ],
     "language": "python",
     "metadata": {},
     "outputs": [
      {
       "output_type": "stream",
       "stream": "stdout",
       "text": [
        "{}\n"
       ]
      }
     ],
     "prompt_number": 67
    },
    {
     "cell_type": "code",
     "collapsed": false,
     "input": [
      "tinydict = {'name': 'john','code':6734, 'dept': 'sales', 45:50}\n",
      "dic2 = tinydict.copy()\n",
      "print dic2\n",
      "print dic2.get('name')\n",
      "print dic2['name']\n",
      "print dic2.get('aaaa')\n",
      "print dic2['aaaa']"
     ],
     "language": "python",
     "metadata": {},
     "outputs": [
      {
       "output_type": "stream",
       "stream": "stdout",
       "text": [
        "{'dept': 'sales', 'code': 6734, 'name': 'john', 45: 50}\n",
        "john\n",
        "john\n",
        "None\n"
       ]
      },
      {
       "ename": "KeyError",
       "evalue": "'aaaa'",
       "output_type": "pyerr",
       "traceback": [
        "\u001b[1;31m---------------------------------------------------------------------------\u001b[0m\n\u001b[1;31mKeyError\u001b[0m                                  Traceback (most recent call last)",
        "\u001b[1;32m<ipython-input-51-19aa61f01e40>\u001b[0m in \u001b[0;36m<module>\u001b[1;34m()\u001b[0m\n\u001b[0;32m      5\u001b[0m \u001b[1;32mprint\u001b[0m \u001b[0mdic2\u001b[0m\u001b[1;33m[\u001b[0m\u001b[1;34m'name'\u001b[0m\u001b[1;33m]\u001b[0m\u001b[1;33m\u001b[0m\u001b[0m\n\u001b[0;32m      6\u001b[0m \u001b[1;32mprint\u001b[0m \u001b[0mdic2\u001b[0m\u001b[1;33m.\u001b[0m\u001b[0mget\u001b[0m\u001b[1;33m(\u001b[0m\u001b[1;34m'aaaa'\u001b[0m\u001b[1;33m)\u001b[0m\u001b[1;33m\u001b[0m\u001b[0m\n\u001b[1;32m----> 7\u001b[1;33m \u001b[1;32mprint\u001b[0m \u001b[0mdic2\u001b[0m\u001b[1;33m[\u001b[0m\u001b[1;34m'aaaa'\u001b[0m\u001b[1;33m]\u001b[0m\u001b[1;33m\u001b[0m\u001b[0m\n\u001b[0m",
        "\u001b[1;31mKeyError\u001b[0m: 'aaaa'"
       ]
      }
     ],
     "prompt_number": 51
    },
    {
     "cell_type": "code",
     "collapsed": false,
     "input": [
      "dic2.items()"
     ],
     "language": "python",
     "metadata": {},
     "outputs": [
      {
       "metadata": {},
       "output_type": "pyout",
       "prompt_number": 73,
       "text": [
        "[('dept', 'sales'), ('code', 6734), ('name', 'john')]"
       ]
      }
     ],
     "prompt_number": 73
    },
    {
     "cell_type": "code",
     "collapsed": false,
     "input": [
      "tinydict['aaaaa'] = 'salam'\n",
      "print tinydict\n",
      "# print dic2\n",
      "tinydict['name'] = 'Ali'\n",
      "tinydict.update(dic2)\n",
      "# print tinydict\n",
      "# print dic2"
     ],
     "language": "python",
     "metadata": {},
     "outputs": [
      {
       "ename": "NameError",
       "evalue": "name 'tinydict' is not defined",
       "output_type": "pyerr",
       "traceback": [
        "\u001b[1;31m---------------------------------------------------------------------------\u001b[0m\n\u001b[1;31mNameError\u001b[0m                                 Traceback (most recent call last)",
        "\u001b[1;32m<ipython-input-6-652c067919f4>\u001b[0m in \u001b[0;36m<module>\u001b[1;34m()\u001b[0m\n\u001b[1;32m----> 1\u001b[1;33m \u001b[0mtinydict\u001b[0m\u001b[1;33m[\u001b[0m\u001b[1;34m'aaaaa'\u001b[0m\u001b[1;33m]\u001b[0m \u001b[1;33m=\u001b[0m \u001b[1;34m'salam'\u001b[0m\u001b[1;33m\u001b[0m\u001b[0m\n\u001b[0m\u001b[0;32m      2\u001b[0m \u001b[1;32mprint\u001b[0m \u001b[0mtinydict\u001b[0m\u001b[1;33m\u001b[0m\u001b[0m\n\u001b[0;32m      3\u001b[0m \u001b[1;31m# print dic2\u001b[0m\u001b[1;33m\u001b[0m\u001b[1;33m\u001b[0m\u001b[0m\n\u001b[0;32m      4\u001b[0m \u001b[1;31m# tinydict['name'] = 'Ali'\u001b[0m\u001b[1;33m\u001b[0m\u001b[1;33m\u001b[0m\u001b[0m\n\u001b[0;32m      5\u001b[0m \u001b[0mtinydict\u001b[0m\u001b[1;33m.\u001b[0m\u001b[0mupdate\u001b[0m\u001b[1;33m(\u001b[0m\u001b[0mdic2\u001b[0m\u001b[1;33m)\u001b[0m\u001b[1;33m\u001b[0m\u001b[0m\n",
        "\u001b[1;31mNameError\u001b[0m: name 'tinydict' is not defined"
       ]
      }
     ],
     "prompt_number": 6
    },
    {
     "cell_type": "code",
     "collapsed": false,
     "input": [
      "print dic2.keys()\n",
      "print dic2.values()"
     ],
     "language": "python",
     "metadata": {},
     "outputs": [
      {
       "output_type": "stream",
       "stream": "stdout",
       "text": [
        "['dept', 'code', 'name']\n",
        "['sales', 6734, 'Ali']\n"
       ]
      }
     ],
     "prompt_number": 79
    },
    {
     "cell_type": "heading",
     "level": 1,
     "metadata": {},
     "source": [
      "Functions"
     ]
    },
    {
     "cell_type": "code",
     "collapsed": false,
     "input": [
      "def functionname(parameters):\n",
      "   # function body\n",
      "   return x"
     ],
     "language": "python",
     "metadata": {},
     "outputs": []
    },
    {
     "cell_type": "code",
     "collapsed": false,
     "input": [
      "def printme(string, arg2, arg3='World'):\n",
      "   \"This prints a passed string into this function\"\n",
      "   print string, arg2, arg3\n",
      "#    return"
     ],
     "language": "python",
     "metadata": {},
     "outputs": [],
     "prompt_number": 10
    },
    {
     "cell_type": "code",
     "collapsed": false,
     "input": [
      "printme('Hello', 'How are you?')"
     ],
     "language": "python",
     "metadata": {},
     "outputs": [
      {
       "output_type": "stream",
       "stream": "stdout",
       "text": [
        "Hello How are you? World\n"
       ]
      }
     ],
     "prompt_number": 11
    },
    {
     "cell_type": "code",
     "collapsed": false,
     "input": [
      "printme(string='Hello')\n",
      "list(('asdasd','ali'))"
     ],
     "language": "python",
     "metadata": {},
     "outputs": [
      {
       "metadata": {},
       "output_type": "pyout",
       "prompt_number": 14,
       "text": [
        "['asdasd', 'ali']"
       ]
      }
     ],
     "prompt_number": 14
    },
    {
     "cell_type": "code",
     "collapsed": false,
     "input": [
      "type(None)"
     ],
     "language": "python",
     "metadata": {},
     "outputs": [
      {
       "metadata": {},
       "output_type": "pyout",
       "prompt_number": 42,
       "text": [
        "NoneType"
       ]
      }
     ],
     "prompt_number": 42
    },
    {
     "cell_type": "code",
     "collapsed": false,
     "input": [
      "printme()"
     ],
     "language": "python",
     "metadata": {},
     "outputs": [
      {
       "ename": "TypeError",
       "evalue": "printme() takes exactly 1 argument (0 given)",
       "output_type": "pyerr",
       "traceback": [
        "\u001b[1;31m---------------------------------------------------------------------------\u001b[0m\n\u001b[1;31mTypeError\u001b[0m                                 Traceback (most recent call last)",
        "\u001b[1;32m<ipython-input-87-aa61170fee10>\u001b[0m in \u001b[0;36m<module>\u001b[1;34m()\u001b[0m\n\u001b[1;32m----> 1\u001b[1;33m \u001b[0mprintme\u001b[0m\u001b[1;33m(\u001b[0m\u001b[1;33m)\u001b[0m\u001b[1;33m\u001b[0m\u001b[0m\n\u001b[0m",
        "\u001b[1;31mTypeError\u001b[0m: printme() takes exactly 1 argument (0 given)"
       ]
      }
     ],
     "prompt_number": 87
    },
    {
     "cell_type": "code",
     "collapsed": false,
     "input": [
      "def printinfo( name, age ):\n",
      "   \"This prints a passed info into this function\"\n",
      "   print \"Name: \", name;\n",
      "   print \"Age \", age;\n",
      "   return;\n",
      "\n",
      "# Now you can call printinfo function\n",
      "printinfo( age=50, name=\"miki\" );"
     ],
     "language": "python",
     "metadata": {},
     "outputs": [
      {
       "output_type": "stream",
       "stream": "stdout",
       "text": [
        "Name:  miki\n",
        "Age  50\n"
       ]
      }
     ],
     "prompt_number": 89
    },
    {
     "cell_type": "code",
     "collapsed": false,
     "input": [
      "def printinfo( name, age = 35 ):\n",
      "   \"This prints a passed info into this function\"\n",
      "   print \"Name: \", name\n",
      "   print \"Age \", age\n",
      "   return\n",
      "\n",
      "# Now you can call printinfo function\n",
      "printinfo( age=50, name=\"miki\" )\n",
      "printinfo( name=\"miki\" )"
     ],
     "language": "python",
     "metadata": {},
     "outputs": [
      {
       "output_type": "stream",
       "stream": "stdout",
       "text": [
        "Name:  miki\n",
        "Age  50\n",
        "Name:  miki\n",
        "Age  35\n"
       ]
      }
     ],
     "prompt_number": 91
    },
    {
     "cell_type": "code",
     "collapsed": false,
     "input": [
      "def printinfo( arg1, *vartuple ):\n",
      "   \"This prints a variable passed arguments\"\n",
      "   print \"Output is: \"\n",
      "   print 'arg1: ', arg1\n",
      "   for var in vartuple:\n",
      "      print 'vartuple: ', var\n",
      "   return\n",
      "\n",
      "# Now you can call printinfo function\n",
      "printinfo( 10 )\n",
      "printinfo( 70, 60, 50 )"
     ],
     "language": "python",
     "metadata": {},
     "outputs": [
      {
       "output_type": "stream",
       "stream": "stdout",
       "text": [
        "Output is: \n",
        "arg1:  10\n",
        "Output is: \n",
        "arg1:  70\n",
        "vartuple:  60\n",
        "vartuple:  50\n"
       ]
      }
     ],
     "prompt_number": 94
    },
    {
     "cell_type": "heading",
     "level": 2,
     "metadata": {},
     "source": [
      "Example: Index Fanction"
     ]
    },
    {
     "cell_type": "code",
     "collapsed": false,
     "input": [
      "def index(sampleList, obj):\n",
      "    indexList = []\n",
      "    for i in xrange(len(sampleList)):\n",
      "        if sampleList[i] == obj:\n",
      "            indexList.append(i)\n",
      "    return indexList"
     ],
     "language": "python",
     "metadata": {},
     "outputs": [],
     "prompt_number": 76
    },
    {
     "cell_type": "code",
     "collapsed": false,
     "input": [
      "nList = [12,3,2,4253,554,65,7,43,4253,4]\n",
      "index(nList, 4253)"
     ],
     "language": "python",
     "metadata": {},
     "outputs": [
      {
       "metadata": {},
       "output_type": "pyout",
       "prompt_number": 78,
       "text": [
        "[3, 8]"
       ]
      }
     ],
     "prompt_number": 78
    },
    {
     "cell_type": "code",
     "collapsed": false,
     "input": [
      "%timeit index(nList, 4253)"
     ],
     "language": "python",
     "metadata": {},
     "outputs": [
      {
       "output_type": "stream",
       "stream": "stdout",
       "text": [
        "1000000 loops, best of 3: 1.36 \u00b5s per loop\n"
       ]
      }
     ],
     "prompt_number": 74
    },
    {
     "cell_type": "code",
     "collapsed": false,
     "input": [
      "%timeit nList.index(4253)"
     ],
     "language": "python",
     "metadata": {},
     "outputs": [
      {
       "output_type": "stream",
       "stream": "stdout",
       "text": [
        "1000000 loops, best of 3: 503 ns per loop\n"
       ]
      }
     ],
     "prompt_number": 75
    },
    {
     "cell_type": "heading",
     "level": 2,
     "metadata": {},
     "source": [
      "Example: Maximum Fanction"
     ]
    },
    {
     "cell_type": "code",
     "collapsed": false,
     "input": [
      "def maxNumber1(numberList):\n",
      "    \"This function returns maximum nuber of a list of numbers.\"\n",
      "    if type(numberList) != list:\n",
      "        print 'Function argument is not a list.'\n",
      "        return\n",
      "\n",
      "    maxNumber = numberList[0]\n",
      "    for n in numberList:\n",
      "        if n > maxNumber:\n",
      "            maxNumber = n\n",
      "    \n",
      "    return maxNumber"
     ],
     "language": "python",
     "metadata": {},
     "outputs": [],
     "prompt_number": 58
    },
    {
     "cell_type": "code",
     "collapsed": false,
     "input": [
      "def maxNumber(numberList, numberList2=None):\n",
      "    \"This function returns maximum nuber of a list of numbers.\"\n",
      "#     if numberList2 != None:\n",
      "#         if type(numberList) != list or type(numberList2) != list:\n",
      "#             print 'Function argument is not a list.'\n",
      "#             return\n",
      "#     else:\n",
      "#         if type(numberList) != list:\n",
      "#             print 'Function argument is not a list.'\n",
      "#             return\n",
      "\n",
      "    maxN = maxNumber1(numberList)\n",
      "    maxN2 = numberList[0]\n",
      "    if numberList2 != None:\n",
      "        maxN2 = maxNumber1(numberList2)\n",
      "        \n",
      "    if maxN < maxN2:\n",
      "        maxN = maxN2\n",
      "    \n",
      "    return maxN"
     ],
     "language": "python",
     "metadata": {},
     "outputs": [],
     "prompt_number": 66
    },
    {
     "cell_type": "code",
     "collapsed": false,
     "input": [
      "def maxNumber(numberList, numberList2=None):\n",
      "    \"This function returns maximum nuber of a list of numbers.\"\n",
      "    if numberList2 != None:\n",
      "        if type(numberList) != list or type(numberList2) != list:\n",
      "            print 'Function argument is not a list.'\n",
      "            return\n",
      "    else:\n",
      "        if type(numberList) != list:\n",
      "            print 'Function argument is not a list.'\n",
      "            return\n",
      "\n",
      "#     if numberList2==None or type(numberList) != list or type(numberList2) != list:\n",
      "\n",
      "        \n",
      "#     if type(numberList2) != list:\n",
      "#         print 'Function second argument is not a list.'\n",
      "#         return\n",
      "\n",
      "    numberList = numberList + numberList2\n",
      "\n",
      "    maxNumber = numberList[0]\n",
      "    for n in numberList:\n",
      "        if n > maxNumber:\n",
      "            maxNumber = n\n",
      "    \n",
      "    return maxNumber"
     ],
     "language": "python",
     "metadata": {},
     "outputs": [],
     "prompt_number": 56
    },
    {
     "cell_type": "code",
     "collapsed": false,
     "input": [
      "nList = [1,2,3,2,1,-4,1008,-100, 10.1, -5.4]\n",
      "nList2 = [1,2,3,2,1,-4,500,456,666666,-100, 10.1, -5.4]\n",
      "maxNumber(nList)"
     ],
     "language": "python",
     "metadata": {},
     "outputs": [
      {
       "metadata": {},
       "output_type": "pyout",
       "prompt_number": 67,
       "text": [
        "1008"
       ]
      }
     ],
     "prompt_number": 67
    },
    {
     "cell_type": "code",
     "collapsed": false,
     "input": [
      "maxNumber('asdasd')"
     ],
     "language": "python",
     "metadata": {},
     "outputs": [
      {
       "output_type": "stream",
       "stream": "stdout",
       "text": [
        "if1\n",
        "Function argument is not a list.\n"
       ]
      }
     ],
     "prompt_number": 41
    },
    {
     "cell_type": "code",
     "collapsed": false,
     "input": [
      "%timeit max(nList)"
     ],
     "language": "python",
     "metadata": {},
     "outputs": [
      {
       "output_type": "stream",
       "stream": "stdout",
       "text": [
        "1000000 loops, best of 3: 644 ns per loop\n"
       ]
      }
     ],
     "prompt_number": 21
    },
    {
     "cell_type": "code",
     "collapsed": false,
     "input": [
      "%timeit maxNumber(nList)"
     ],
     "language": "python",
     "metadata": {},
     "outputs": [
      {
       "output_type": "stream",
       "stream": "stdout",
       "text": [
        "1000000 loops, best of 3: 1.37 \u00b5s per loop\n"
       ]
      }
     ],
     "prompt_number": 22
    },
    {
     "cell_type": "heading",
     "level": 1,
     "metadata": {},
     "source": [
      "Example: Fibonacci Sequence"
     ]
    },
    {
     "cell_type": "code",
     "collapsed": false,
     "input": [
      "def FibonacciSequence(n):\n",
      "    global f\n",
      "    \"n should be larger than 2\"\n",
      "    f = [1,1]\n",
      "    for i in xrange(2,n):\n",
      "        f.append(f[i-1]+f[i-2])\n",
      "        \n",
      "    return f\n",
      "\n",
      "def FibonacciNumber(n):\n",
      "    global f\n",
      "    \"n should be larger than 2\"\n",
      "    f = [1,1]\n",
      "    for i in xrange(2,n+1):\n",
      "        f.append(f[i-1]+f[i-2])\n",
      "        \n",
      "    return f[n]"
     ],
     "language": "python",
     "metadata": {},
     "outputs": [],
     "prompt_number": 8
    },
    {
     "cell_type": "code",
     "collapsed": false,
     "input": [
      "FibonacciSequence(11)"
     ],
     "language": "python",
     "metadata": {},
     "outputs": [
      {
       "metadata": {},
       "output_type": "pyout",
       "prompt_number": 9,
       "text": [
        "[1, 1, 2, 3, 5, 8, 13, 21, 34, 55, 89]"
       ]
      }
     ],
     "prompt_number": 9
    },
    {
     "cell_type": "code",
     "collapsed": false,
     "input": [
      "FibonacciNumber(10)"
     ],
     "language": "python",
     "metadata": {},
     "outputs": [
      {
       "metadata": {},
       "output_type": "pyout",
       "prompt_number": 10,
       "text": [
        "89"
       ]
      }
     ],
     "prompt_number": 10
    },
    {
     "cell_type": "heading",
     "level": 3,
     "metadata": {},
     "source": [
      "Sum 2 numbers function"
     ]
    },
    {
     "cell_type": "code",
     "collapsed": false,
     "input": [
      "def sum2numbers( n1, n2 ):\n",
      "   total = n1 + n2\n",
      "   return total;"
     ],
     "language": "python",
     "metadata": {},
     "outputs": [],
     "prompt_number": 109
    },
    {
     "cell_type": "code",
     "collapsed": false,
     "input": [
      "print sum2numbers(1,4)"
     ],
     "language": "python",
     "metadata": {},
     "outputs": [
      {
       "output_type": "stream",
       "stream": "stdout",
       "text": [
        "5\n"
       ]
      }
     ],
     "prompt_number": 113
    },
    {
     "cell_type": "code",
     "collapsed": false,
     "input": [
      "print total"
     ],
     "language": "python",
     "metadata": {},
     "outputs": [
      {
       "ename": "NameError",
       "evalue": "name 'total' is not defined",
       "output_type": "pyerr",
       "traceback": [
        "\u001b[1;31m---------------------------------------------------------------------------\u001b[0m\n\u001b[1;31mNameError\u001b[0m                                 Traceback (most recent call last)",
        "\u001b[1;32m<ipython-input-114-48bc4a0e5c7c>\u001b[0m in \u001b[0;36m<module>\u001b[1;34m()\u001b[0m\n\u001b[1;32m----> 1\u001b[1;33m \u001b[1;32mprint\u001b[0m \u001b[0mtotal\u001b[0m\u001b[1;33m\u001b[0m\u001b[0m\n\u001b[0m",
        "\u001b[1;31mNameError\u001b[0m: name 'total' is not defined"
       ]
      }
     ],
     "prompt_number": 114
    },
    {
     "cell_type": "heading",
     "level": 1,
     "metadata": {},
     "source": [
      "Global vs. Local variables"
     ]
    },
    {
     "cell_type": "code",
     "collapsed": false,
     "input": [
      "def sum2numbers( n1, n2 ):\n",
      "   global total\n",
      "   total = n1 + n2\n",
      "   return total;"
     ],
     "language": "python",
     "metadata": {},
     "outputs": [],
     "prompt_number": 5
    },
    {
     "cell_type": "code",
     "collapsed": false,
     "input": [
      "print sum2numbers(1,4)\n",
      "print total"
     ],
     "language": "python",
     "metadata": {},
     "outputs": [
      {
       "output_type": "stream",
       "stream": "stdout",
       "text": [
        "5\n",
        "5\n"
       ]
      }
     ],
     "prompt_number": 6
    },
    {
     "cell_type": "heading",
     "level": 1,
     "metadata": {},
     "source": [
      "Formatting Strings"
     ]
    },
    {
     "cell_type": "code",
     "collapsed": false,
     "input": [
      "x = 1\n",
      "y = 0.0000354\n",
      "z = 3.0\n",
      "s = \"my string\""
     ],
     "language": "python",
     "metadata": {},
     "outputs": [],
     "prompt_number": 11
    },
    {
     "cell_type": "code",
     "collapsed": false,
     "input": [
      "print \"x = {}, y = {}, z = {}, s = {}\".format(x, y, z, s)\n",
      "\n",
      "mean = 100\n",
      "var = 10,3453\n",
      "title = \"pdf of problem 1.b, mean = {}, var = {}\".format(mean, var)\n",
      "print title"
     ],
     "language": "python",
     "metadata": {},
     "outputs": [
      {
       "output_type": "stream",
       "stream": "stdout",
       "text": [
        "x = 1, y = 3.54e-05, z = 3.0, s = my string\n",
        "pdf of problem 1.b, mean = 100, var = (10, 3453)\n"
       ]
      }
     ],
     "prompt_number": 12
    },
    {
     "cell_type": "code",
     "collapsed": false,
     "input": [
      "print \"x = {0}, y = {1:6.2g}, z = {2:.3f}, s = {3}\".format(x, y, z, s)"
     ],
     "language": "python",
     "metadata": {},
     "outputs": [
      {
       "output_type": "stream",
       "stream": "stdout",
       "text": [
        "x = 1, y = 3.5e-05, z = 3.000, s = my string\n"
       ]
      }
     ],
     "prompt_number": 13
    },
    {
     "cell_type": "code",
     "collapsed": false,
     "input": [
      "print \"{:^80}\".format(\"centered string\")"
     ],
     "language": "python",
     "metadata": {},
     "outputs": [
      {
       "output_type": "stream",
       "stream": "stdout",
       "text": [
        "                                centered string                                 \n"
       ]
      }
     ],
     "prompt_number": 14
    },
    {
     "cell_type": "heading",
     "level": 1,
     "metadata": {},
     "source": [
      "Modules"
     ]
    },
    {
     "cell_type": "code",
     "collapsed": false,
     "input": [
      "import random\n",
      "import math"
     ],
     "language": "python",
     "metadata": {},
     "outputs": [],
     "prompt_number": 1
    },
    {
     "cell_type": "code",
     "collapsed": false,
     "input": [
      "math.sin(math.pi)"
     ],
     "language": "python",
     "metadata": {},
     "outputs": [
      {
       "metadata": {},
       "output_type": "pyout",
       "prompt_number": 2,
       "text": [
        "1.2246467991473532e-16"
       ]
      }
     ],
     "prompt_number": 2
    },
    {
     "cell_type": "code",
     "collapsed": false,
     "input": [
      "from math import sin, exp, pi, e"
     ],
     "language": "python",
     "metadata": {},
     "outputs": [],
     "prompt_number": 81
    },
    {
     "cell_type": "code",
     "collapsed": false,
     "input": [
      "print pi\n",
      "print e"
     ],
     "language": "python",
     "metadata": {},
     "outputs": [
      {
       "output_type": "stream",
       "stream": "stdout",
       "text": [
        "3.14159265359\n",
        "2.71828182846\n"
       ]
      }
     ],
     "prompt_number": 82
    },
    {
     "cell_type": "code",
     "collapsed": false,
     "input": [
      "from math import *"
     ],
     "language": "python",
     "metadata": {},
     "outputs": [],
     "prompt_number": 3
    },
    {
     "cell_type": "code",
     "collapsed": false,
     "input": [
      "sin(pi)"
     ],
     "language": "python",
     "metadata": {},
     "outputs": [
      {
       "metadata": {},
       "output_type": "pyout",
       "prompt_number": 4,
       "text": [
        "1.2246467991473532e-16"
       ]
      }
     ],
     "prompt_number": 4
    },
    {
     "cell_type": "code",
     "collapsed": false,
     "input": [
      "import random as rnd"
     ],
     "language": "python",
     "metadata": {},
     "outputs": [],
     "prompt_number": 105
    },
    {
     "cell_type": "code",
     "collapsed": false,
     "input": [
      "rnd.random()"
     ],
     "language": "python",
     "metadata": {},
     "outputs": [
      {
       "metadata": {},
       "output_type": "pyout",
       "prompt_number": 106,
       "text": [
        "0.612054283218451"
       ]
      }
     ],
     "prompt_number": 106
    },
    {
     "cell_type": "code",
     "collapsed": false,
     "input": [
      "dir(math)"
     ],
     "language": "python",
     "metadata": {},
     "outputs": [
      {
       "metadata": {},
       "output_type": "pyout",
       "prompt_number": 107,
       "text": [
        "['__doc__',\n",
        " '__name__',\n",
        " '__package__',\n",
        " 'acos',\n",
        " 'acosh',\n",
        " 'asin',\n",
        " 'asinh',\n",
        " 'atan',\n",
        " 'atan2',\n",
        " 'atanh',\n",
        " 'ceil',\n",
        " 'copysign',\n",
        " 'cos',\n",
        " 'cosh',\n",
        " 'degrees',\n",
        " 'e',\n",
        " 'erf',\n",
        " 'erfc',\n",
        " 'exp',\n",
        " 'expm1',\n",
        " 'fabs',\n",
        " 'factorial',\n",
        " 'floor',\n",
        " 'fmod',\n",
        " 'frexp',\n",
        " 'fsum',\n",
        " 'gamma',\n",
        " 'hypot',\n",
        " 'isinf',\n",
        " 'isnan',\n",
        " 'ldexp',\n",
        " 'lgamma',\n",
        " 'log',\n",
        " 'log10',\n",
        " 'log1p',\n",
        " 'modf',\n",
        " 'pi',\n",
        " 'pow',\n",
        " 'radians',\n",
        " 'sin',\n",
        " 'sinh',\n",
        " 'sqrt',\n",
        " 'tan',\n",
        " 'tanh',\n",
        " 'trunc']"
       ]
      }
     ],
     "prompt_number": 107
    },
    {
     "cell_type": "heading",
     "level": 1,
     "metadata": {},
     "source": [
      "Exceptions Handling"
     ]
    },
    {
     "cell_type": "code",
     "collapsed": false,
     "input": [
      "try:\n",
      "    You do your operations here\n",
      "except ExceptionI:\n",
      "    If there is ExceptionI, then execute this block.\n",
      "except ExceptionII:\n",
      "    If there is ExceptionII, then execute this block.\n",
      "    .\n",
      "    .\n",
      "    .\n",
      "else:\n",
      "    If there is no exception then execute this block.\n",
      "finally:\n",
      "    This would always be executed."
     ],
     "language": "python",
     "metadata": {},
     "outputs": []
    },
    {
     "cell_type": "code",
     "collapsed": false,
     "input": [
      "try:\n",
      "    a=1/0\n",
      "except ValueError:\n",
      "    print 'error1'\n",
      "except ZeroDivisionError as e:\n",
      "    print 'error2:', e\n",
      "except:\n",
      "    print 'other errors'\n",
      "else:\n",
      "    print 'else'\n",
      "finally:\n",
      "    print 'This would always be executed.'\n"
     ],
     "language": "python",
     "metadata": {},
     "outputs": [
      {
       "output_type": "stream",
       "stream": "stdout",
       "text": [
        "error2: integer division or modulo by zero\n",
        "This would always be executed.\n"
       ]
      }
     ],
     "prompt_number": 19
    },
    {
     "cell_type": "code",
     "collapsed": false,
     "input": [
      "try:\n",
      "    a=1/0\n",
      "except (RuntimeError, TypeError, NameError, ZeroDivisionError) as e:\n",
      "    print 'error', e"
     ],
     "language": "python",
     "metadata": {},
     "outputs": [
      {
       "output_type": "stream",
       "stream": "stdout",
       "text": [
        "error integer division or modulo by zero\n"
       ]
      }
     ],
     "prompt_number": 17
    },
    {
     "cell_type": "code",
     "collapsed": false,
     "input": [
      "import sys\n",
      "\n",
      "try:\n",
      "    f = open('myfile.txt')\n",
      "    s = f.readline()\n",
      "    i = int(s.strip())\n",
      "except IOError as e:\n",
      "    print \"I/O error({0}): {1}\".format(e.errno, e.strerror)\n",
      "except ValueError:\n",
      "    print \"Could not convert data to an integer.\"\n",
      "except:\n",
      "    print \"Unexpected error:\", sys.exc_info()[0]"
     ],
     "language": "python",
     "metadata": {},
     "outputs": [
      {
       "output_type": "stream",
       "stream": "stdout",
       "text": [
        "I/O error(2): No such file or directory\n"
       ]
      }
     ],
     "prompt_number": 21
    },
    {
     "cell_type": "heading",
     "level": 3,
     "metadata": {},
     "source": [
      "Predefined Clean-up Actions"
     ]
    },
    {
     "cell_type": "code",
     "collapsed": false,
     "input": [
      "with open(\"myfile.txt\") as f:\n",
      "    for line in f:\n",
      "        print line"
     ],
     "language": "python",
     "metadata": {},
     "outputs": [
      {
       "ename": "IOError",
       "evalue": "[Errno 2] No such file or directory: 'myfile.txt'",
       "output_type": "pyerr",
       "traceback": [
        "\u001b[1;31m---------------------------------------------------------------------------\u001b[0m\n\u001b[1;31mIOError\u001b[0m                                   Traceback (most recent call last)",
        "\u001b[1;32m<ipython-input-22-461347fcecd2>\u001b[0m in \u001b[0;36m<module>\u001b[1;34m()\u001b[0m\n\u001b[1;32m----> 1\u001b[1;33m \u001b[1;32mwith\u001b[0m \u001b[0mopen\u001b[0m\u001b[1;33m(\u001b[0m\u001b[1;34m\"myfile.txt\"\u001b[0m\u001b[1;33m)\u001b[0m \u001b[1;32mas\u001b[0m \u001b[0mf\u001b[0m\u001b[1;33m:\u001b[0m\u001b[1;33m\u001b[0m\u001b[0m\n\u001b[0m\u001b[0;32m      2\u001b[0m     \u001b[1;32mfor\u001b[0m \u001b[0mline\u001b[0m \u001b[1;32min\u001b[0m \u001b[0mf\u001b[0m\u001b[1;33m:\u001b[0m\u001b[1;33m\u001b[0m\u001b[0m\n\u001b[0;32m      3\u001b[0m         \u001b[1;32mprint\u001b[0m \u001b[0mline\u001b[0m\u001b[1;33m\u001b[0m\u001b[0m\n",
        "\u001b[1;31mIOError\u001b[0m: [Errno 2] No such file or directory: 'myfile.txt'"
       ]
      }
     ],
     "prompt_number": 22
    },
    {
     "cell_type": "code",
     "collapsed": false,
     "input": [],
     "language": "python",
     "metadata": {},
     "outputs": []
    },
    {
     "cell_type": "heading",
     "level": 1,
     "metadata": {},
     "source": [
      "Generating a list of random numbers"
     ]
    },
    {
     "cell_type": "code",
     "collapsed": false,
     "input": [
      "import random"
     ],
     "language": "python",
     "metadata": {},
     "outputs": [],
     "prompt_number": 54
    },
    {
     "cell_type": "code",
     "collapsed": false,
     "input": [
      "random.random()"
     ],
     "language": "python",
     "metadata": {},
     "outputs": [
      {
       "metadata": {},
       "output_type": "pyout",
       "prompt_number": 55,
       "text": [
        "0.2679049373150896"
       ]
      }
     ],
     "prompt_number": 55
    },
    {
     "cell_type": "code",
     "collapsed": false,
     "input": [
      "randList = []\n",
      "\n",
      "for i in xrange(10):\n",
      "    r = random.random()\n",
      "    randList.append(r)\n",
      "print randList"
     ],
     "language": "python",
     "metadata": {},
     "outputs": [
      {
       "output_type": "stream",
       "stream": "stdout",
       "text": [
        "[0.8633311679956774, 0.01736624100549944, 0.11851905018182296, 0.9493539775476089, 0.8128443422917399, 0.4446739608893687, 0.4173690025124369, 0.9627349034204805, 0.7399682864622342, 0.7791056966454071]\n"
       ]
      }
     ],
     "prompt_number": 66
    },
    {
     "cell_type": "code",
     "collapsed": false,
     "input": [
      "for i in xrange(10):\n",
      "    print randList[i]"
     ],
     "language": "python",
     "metadata": {},
     "outputs": [
      {
       "output_type": "stream",
       "stream": "stdout",
       "text": [
        "0.863331167996\n",
        "0.0173662410055\n",
        "0.118519050182\n",
        "0.949353977548\n",
        "0.812844342292\n",
        "0.444673960889\n",
        "0.417369002512\n",
        "0.96273490342\n",
        "0.739968286462\n",
        "0.779105696645\n"
       ]
      }
     ],
     "prompt_number": 67
    },
    {
     "cell_type": "heading",
     "level": 1,
     "metadata": {},
     "source": [
      "Input and Output (I/O)"
     ]
    },
    {
     "cell_type": "code",
     "collapsed": false,
     "input": [
      "try: f = open(\"./sample.txt\", \"w\")   # open for writing -- any file of the same name will be overwritten\n",
      "except: \n",
      "    print \"cannot open the file\"\n",
      "\n",
      "print f"
     ],
     "language": "python",
     "metadata": {},
     "outputs": []
    },
    {
     "cell_type": "code",
     "collapsed": false,
     "input": [
      "f.write(\"this is my first write\\n\")\n",
      "f.close()"
     ],
     "language": "python",
     "metadata": {},
     "outputs": []
    },
    {
     "cell_type": "code",
     "collapsed": false,
     "input": [
      "try: f = open(\"./test.txt\", \"r\")\n",
      "except:\n",
      "    print \"error: cannot open the file\"\n",
      "    \n",
      "for line in f.readlines():\n",
      "    print line"
     ],
     "language": "python",
     "metadata": {},
     "outputs": []
    }
   ],
   "metadata": {}
  }
 ]
}