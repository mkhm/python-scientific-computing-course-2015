{
 "metadata": {
  "name": "",
  "signature": "sha256:65bd865ea372c85bb375eb297a416e0daf5b7d12c8b485c171ac0801d25c9ba2"
 },
 "nbformat": 3,
 "nbformat_minor": 0,
 "worksheets": [
  {
   "cells": [
    {
     "cell_type": "heading",
     "level": 1,
     "metadata": {},
     "source": [
      "Basics of Python Programming"
     ]
    },
    {
     "cell_type": "heading",
     "level": 1,
     "metadata": {},
     "source": [
      "Lists"
     ]
    },
    {
     "cell_type": "code",
     "collapsed": false,
     "input": [
      "# Accessing Values in Lists:\n",
      "list1 = ['physics', 'chemistry', 1997, 2000];\n",
      "list2 = [1, 2, 3, 4, 5, 6, 7 ];\n",
      "\n",
      "print \"list1[0]: \", list1[0]\n",
      "print \"list2[1:5]: \", list2[1:5]"
     ],
     "language": "python",
     "metadata": {},
     "outputs": [
      {
       "output_type": "stream",
       "stream": "stdout",
       "text": [
        "list1[0]:  physics\n",
        "list2[1:5]:  [2, 3, 4, 5]\n"
       ]
      }
     ],
     "prompt_number": 12
    },
    {
     "cell_type": "code",
     "collapsed": false,
     "input": [
      "print \"Value available at index 2 : \"\n",
      "print list1[2];\n",
      "list[2] = 2001;\n",
      "print \"New value available at index 2 : \"\n",
      "print list1[2];"
     ],
     "language": "python",
     "metadata": {},
     "outputs": [
      {
       "output_type": "stream",
       "stream": "stdout",
       "text": [
        "Value available at index 2 : \n",
        "1997\n",
        "New value available at index 2 : \n",
        "1997\n"
       ]
      }
     ],
     "prompt_number": 19
    },
    {
     "cell_type": "code",
     "collapsed": false,
     "input": [
      "days_of_the_week = [\"Sunday\",\"Monday\",\"Tuesday\",\"Wednesday\",\"Thursday\",\"Friday\",\"Saturday\"]\n",
      "for day in days_of_the_week:\n",
      "    print day"
     ],
     "language": "python",
     "metadata": {},
     "outputs": [
      {
       "output_type": "stream",
       "stream": "stdout",
       "text": [
        "Sunday\n",
        "Monday\n",
        "Tuesday\n",
        "Wednesday\n",
        "Thursday\n",
        "Friday\n",
        "Saturday\n"
       ]
      }
     ],
     "prompt_number": 1
    },
    {
     "cell_type": "code",
     "collapsed": false,
     "input": [
      "list1 = ['physics', 'chemistry', 1997, 2000]\n",
      "\n",
      "print list1\n",
      "del list1[2]\n",
      "print \"After deleting value at index 2 : \"\n",
      "print list1\n",
      "\n",
      "print \n",
      "print 'remove:'\n",
      "\n",
      "list1 = ['physics', 'chemistry', 1997, 2000]\n",
      "list1.remove('chemistry')\n",
      "print list1;"
     ],
     "language": "python",
     "metadata": {},
     "outputs": [
      {
       "output_type": "stream",
       "stream": "stdout",
       "text": [
        "['physics', 'chemistry', 1997, 2000]\n",
        "After deleting value at index 2 : \n",
        "['physics', 'chemistry', 2000]\n",
        "\n",
        "remove:\n",
        "['physics', 1997, 2000]\n"
       ]
      }
     ],
     "prompt_number": 32
    },
    {
     "cell_type": "code",
     "collapsed": false,
     "input": [
      "list2 = ['salam', 'aleyk', 'bye'];\n",
      "list1+list2"
     ],
     "language": "python",
     "metadata": {},
     "outputs": [
      {
       "metadata": {},
       "output_type": "pyout",
       "prompt_number": 34,
       "text": [
        "['physics', 'chemistry', 1997, 2000, 'salam', 'aleyk', 'bye']"
       ]
      }
     ],
     "prompt_number": 34
    },
    {
     "cell_type": "code",
     "collapsed": false,
     "input": [
      "list1*3"
     ],
     "language": "python",
     "metadata": {},
     "outputs": [
      {
       "metadata": {},
       "output_type": "pyout",
       "prompt_number": 36,
       "text": [
        "['physics',\n",
        " 'chemistry',\n",
        " 1997,\n",
        " 2000,\n",
        " 'physics',\n",
        " 'chemistry',\n",
        " 1997,\n",
        " 2000,\n",
        " 'physics',\n",
        " 'chemistry',\n",
        " 1997,\n",
        " 2000]"
       ]
      }
     ],
     "prompt_number": 36
    },
    {
     "cell_type": "code",
     "collapsed": false,
     "input": [
      "print list1\n",
      "len(list1)"
     ],
     "language": "python",
     "metadata": {},
     "outputs": [
      {
       "output_type": "stream",
       "stream": "stdout",
       "text": [
        "['physics', 'chemistry', 1997, 2000]\n"
       ]
      },
      {
       "metadata": {},
       "output_type": "pyout",
       "prompt_number": 14,
       "text": [
        "4"
       ]
      }
     ],
     "prompt_number": 14
    },
    {
     "cell_type": "code",
     "collapsed": false,
     "input": [
      "list3 = [1,2,6,22,5,7,99,2,6,99,6,1,1,1,1]\n",
      "print 'max: ', max(list3)\n",
      "print 'min: ', min(list3)"
     ],
     "language": "python",
     "metadata": {},
     "outputs": [
      {
       "output_type": "stream",
       "stream": "stdout",
       "text": [
        "max:  99\n",
        "min:  1\n"
       ]
      }
     ],
     "prompt_number": 37
    },
    {
     "cell_type": "code",
     "collapsed": false,
     "input": [
      "print 'count 22: ', list3.count(22)\n",
      "list3.append(22)\n",
      "print 'count 22: ', list3.count(22)\n",
      "print 'index of 22: ', list3.index(22)\n",
      "list3.insert(3, 1000000)\n",
      "print list3"
     ],
     "language": "python",
     "metadata": {},
     "outputs": [
      {
       "output_type": "stream",
       "stream": "stdout",
       "text": [
        "count 22:  4\n",
        "count 22:  5\n",
        "index of 22:  6\n",
        "[1, 2, 6, 1000000, 1000000, 1000000, 1000000, 22, 5, 7, 99, 2, 6, 99, 6, 1, 1, 1, 1, 22, 22, 22, 22]\n"
       ]
      }
     ],
     "prompt_number": 41
    },
    {
     "cell_type": "code",
     "collapsed": false,
     "input": [
      "aList = [123, 'xyz', 'YYY', 'zara', 'abc'];\n",
      "\n",
      "print \"A List : \", aList.pop();\n",
      "print aList\n",
      "print \"B List : \", aList.pop(2);\n",
      "print aList"
     ],
     "language": "python",
     "metadata": {},
     "outputs": [
      {
       "output_type": "stream",
       "stream": "stdout",
       "text": [
        "A List :  abc\n",
        "[123, 'xyz', 'YYY', 'zara']\n",
        "B List :  YYY\n",
        "[123, 'xyz', 'zara']\n"
       ]
      }
     ],
     "prompt_number": 25
    },
    {
     "cell_type": "code",
     "collapsed": false,
     "input": [
      "aList.reverse()\n",
      "aList"
     ],
     "language": "python",
     "metadata": {},
     "outputs": [
      {
       "metadata": {},
       "output_type": "pyout",
       "prompt_number": 26,
       "text": [
        "['zara', 'xyz', 123]"
       ]
      }
     ],
     "prompt_number": 26
    },
    {
     "cell_type": "code",
     "collapsed": false,
     "input": [
      "print list3\n",
      "list3.sort()\n",
      "print list3\n",
      "list3.sort(reverse=False)\n",
      "print list3\n",
      "list3.sort(reverse=True)\n",
      "print list3"
     ],
     "language": "python",
     "metadata": {},
     "outputs": [
      {
       "output_type": "stream",
       "stream": "stdout",
       "text": [
        "[1, 1, 1, 1, 1, 2, 2, 5, 6, 6, 6, 7, 22, 22, 99, 99, 1000000]\n",
        "[1, 1, 1, 1, 1, 2, 2, 5, 6, 6, 6, 7, 22, 22, 99, 99, 1000000]\n",
        "[1, 1, 1, 1, 1, 2, 2, 5, 6, 6, 6, 7, 22, 22, 99, 99, 1000000]\n",
        "[1000000, 99, 99, 22, 22, 7, 6, 6, 6, 5, 2, 2, 1, 1, 1, 1, 1]\n"
       ]
      }
     ],
     "prompt_number": 28
    },
    {
     "cell_type": "heading",
     "level": 2,
     "metadata": {},
     "source": [
      "String as a list"
     ]
    },
    {
     "cell_type": "code",
     "collapsed": false,
     "input": [
      "s = 'Hello World!'\n",
      "\n",
      "print s          # Prints complete string\n",
      "print s[0]       # Prints first character of the string\n",
      "print s[5]       # Prints first character of the string\n",
      "print s[2:5]     # Prints characters starting from 3rd to 5th\n",
      "print s[2:]      # Prints string starting from 3rd character\n",
      "print s * 2      # Prints string two times\n",
      "print s + \"TEST\" # Prints concatenated string"
     ],
     "language": "python",
     "metadata": {},
     "outputs": [
      {
       "output_type": "stream",
       "stream": "stdout",
       "text": [
        "Hello World!\n",
        "H\n",
        " \n",
        "llo\n",
        "llo World!\n",
        "Hello World!Hello World!\n",
        "Hello World!TEST\n"
       ]
      }
     ],
     "prompt_number": 33
    },
    {
     "cell_type": "heading",
     "level": 1,
     "metadata": {},
     "source": [
      "Tuples"
     ]
    },
    {
     "cell_type": "markdown",
     "metadata": {},
     "source": [
      "Tuples can be thought of as ***read-only*** lists."
     ]
    },
    {
     "cell_type": "code",
     "collapsed": false,
     "input": [
      "tuple1 = ('physics', 'chemistry', 2000, 'physics', 'chemistry', 2000)\n",
      "print tuple1\n",
      "list_1 = list(tuple1)\n",
      "print list_1\n",
      "t1 = tuple(list_1)\n",
      "print t1"
     ],
     "language": "python",
     "metadata": {},
     "outputs": [
      {
       "output_type": "stream",
       "stream": "stdout",
       "text": [
        "('physics', 'chemistry', 2000, 'physics', 'chemistry', 2000)\n",
        "['physics', 'chemistry', 2000, 'physics', 'chemistry', 2000]\n",
        "('physics', 'chemistry', 2000, 'physics', 'chemistry', 2000)\n"
       ]
      }
     ],
     "prompt_number": 42
    },
    {
     "cell_type": "heading",
     "level": 1,
     "metadata": {},
     "source": [
      "Dictionary"
     ]
    },
    {
     "cell_type": "code",
     "collapsed": false,
     "input": [
      "dict = {'Alice': '2341', 'Beth': '9102', 'Cecil': '3258', 50: 37 , 66:'ali'}"
     ],
     "language": "python",
     "metadata": {},
     "outputs": [],
     "prompt_number": 45
    },
    {
     "cell_type": "code",
     "collapsed": false,
     "input": [
      "dict = {'Name': 'Ali', 'Age': 7, 'Class': 'First'}\n",
      "\n",
      "print \"dict['Name']: \", dict['Name']\n",
      "print \"dict['Age']: \", dict['Age']"
     ],
     "language": "python",
     "metadata": {},
     "outputs": [
      {
       "output_type": "stream",
       "stream": "stdout",
       "text": [
        "dict['Name']:  Ali\n",
        "dict['Age']:  7\n"
       ]
      }
     ],
     "prompt_number": 58
    },
    {
     "cell_type": "code",
     "collapsed": false,
     "input": [
      "dict['Age'] = 8; # update existing entry\n",
      "dict['School'] = \"DPS School\"; # Add new entry\n",
      "\n",
      "print \"dict['Age']: \", dict['Age']\n",
      "print \"dict['School']: \", dict['School']"
     ],
     "language": "python",
     "metadata": {},
     "outputs": [
      {
       "output_type": "stream",
       "stream": "stdout",
       "text": [
        "dict['Age']:  8\n",
        "dict['School']:  DPS School\n"
       ]
      }
     ],
     "prompt_number": 59
    },
    {
     "cell_type": "code",
     "collapsed": false,
     "input": [
      "dict = {'Name': 'Zara', 'Age': 7, 'Class': 'First'};\n",
      "\n",
      "del dict['Name']; # remove entry with key 'Name'\n",
      "dict.clear();     # remove all entries in dict\n",
      "del dict ;        # delete entire dictionary\n",
      "\n",
      "print \"dict['Age']: \", dict['Age'];\n",
      "print \"dict['School']: \", dict['School'];"
     ],
     "language": "python",
     "metadata": {},
     "outputs": [
      {
       "output_type": "stream",
       "stream": "stdout",
       "text": [
        " dict['Age']: "
       ]
      },
      {
       "ename": "TypeError",
       "evalue": "'type' object has no attribute '__getitem__'",
       "output_type": "pyerr",
       "traceback": [
        "\u001b[1;31m---------------------------------------------------------------------------\u001b[0m\n\u001b[1;31mTypeError\u001b[0m                                 Traceback (most recent call last)",
        "\u001b[1;32m<ipython-input-47-50456edc9878>\u001b[0m in \u001b[0;36m<module>\u001b[1;34m()\u001b[0m\n\u001b[0;32m      5\u001b[0m \u001b[1;32mdel\u001b[0m \u001b[0mdict\u001b[0m \u001b[1;33m;\u001b[0m        \u001b[1;31m# delete entire dictionary\u001b[0m\u001b[1;33m\u001b[0m\u001b[0m\n\u001b[0;32m      6\u001b[0m \u001b[1;33m\u001b[0m\u001b[0m\n\u001b[1;32m----> 7\u001b[1;33m \u001b[1;32mprint\u001b[0m \u001b[1;34m\"dict['Age']: \"\u001b[0m\u001b[1;33m,\u001b[0m \u001b[0mdict\u001b[0m\u001b[1;33m[\u001b[0m\u001b[1;34m'Age'\u001b[0m\u001b[1;33m]\u001b[0m\u001b[1;33m;\u001b[0m\u001b[1;33m\u001b[0m\u001b[0m\n\u001b[0m\u001b[0;32m      8\u001b[0m \u001b[1;32mprint\u001b[0m \u001b[1;34m\"dict['School']: \"\u001b[0m\u001b[1;33m,\u001b[0m \u001b[0mdict\u001b[0m\u001b[1;33m[\u001b[0m\u001b[1;34m'School'\u001b[0m\u001b[1;33m]\u001b[0m\u001b[1;33m;\u001b[0m\u001b[1;33m\u001b[0m\u001b[0m\n",
        "\u001b[1;31mTypeError\u001b[0m: 'type' object has no attribute '__getitem__'"
       ]
      }
     ],
     "prompt_number": 47
    },
    {
     "cell_type": "code",
     "collapsed": false,
     "input": [
      "dict = {'Name': 'Zara', 'Age': 7, 'Name': 'Manni'};\n",
      "\n",
      "print \"dict['Name']: \", dict['Name'];"
     ],
     "language": "python",
     "metadata": {},
     "outputs": [
      {
       "output_type": "stream",
       "stream": "stdout",
       "text": [
        " dict['Name']:  Manni\n"
       ]
      }
     ],
     "prompt_number": 61
    },
    {
     "cell_type": "code",
     "collapsed": false,
     "input": [
      "tinydict = {'name': 'john','code':6734, 'dept': 'sales'}\n",
      "print tinydict['name']       # Prints value for 'one' key\n",
      "print tinydict          # Prints complete dictionary\n",
      "print tinydict.keys()   # Prints all the keys\n",
      "print tinydict.values() # Prints all the values"
     ],
     "language": "python",
     "metadata": {},
     "outputs": [
      {
       "output_type": "stream",
       "stream": "stdout",
       "text": [
        "john\n",
        "{'dept': 'sales', 'code': 6734, 'name': 'john'}\n",
        "['dept', 'code', 'name']\n",
        "['sales', 6734, 'john']\n"
       ]
      }
     ],
     "prompt_number": 65
    },
    {
     "cell_type": "code",
     "collapsed": false,
     "input": [
      "tinydict.clear()\n",
      "print tinydict"
     ],
     "language": "python",
     "metadata": {},
     "outputs": [
      {
       "output_type": "stream",
       "stream": "stdout",
       "text": [
        "{}\n"
       ]
      }
     ],
     "prompt_number": 67
    },
    {
     "cell_type": "code",
     "collapsed": false,
     "input": [
      "tinydict = {'name': 'john','code':6734, 'dept': 'sales', 45:50}\n",
      "dic2 = tinydict.copy()\n",
      "print dic2\n",
      "print dic2.get('name')\n",
      "print dic2['name']\n",
      "print dic2.get('aaaa')\n",
      "print dic2['aaaa']"
     ],
     "language": "python",
     "metadata": {},
     "outputs": [
      {
       "output_type": "stream",
       "stream": "stdout",
       "text": [
        "{'dept': 'sales', 'code': 6734, 'name': 'john', 45: 50}\n",
        "john\n",
        "john\n",
        "None\n"
       ]
      },
      {
       "ename": "KeyError",
       "evalue": "'aaaa'",
       "output_type": "pyerr",
       "traceback": [
        "\u001b[1;31m---------------------------------------------------------------------------\u001b[0m\n\u001b[1;31mKeyError\u001b[0m                                  Traceback (most recent call last)",
        "\u001b[1;32m<ipython-input-51-19aa61f01e40>\u001b[0m in \u001b[0;36m<module>\u001b[1;34m()\u001b[0m\n\u001b[0;32m      5\u001b[0m \u001b[1;32mprint\u001b[0m \u001b[0mdic2\u001b[0m\u001b[1;33m[\u001b[0m\u001b[1;34m'name'\u001b[0m\u001b[1;33m]\u001b[0m\u001b[1;33m\u001b[0m\u001b[0m\n\u001b[0;32m      6\u001b[0m \u001b[1;32mprint\u001b[0m \u001b[0mdic2\u001b[0m\u001b[1;33m.\u001b[0m\u001b[0mget\u001b[0m\u001b[1;33m(\u001b[0m\u001b[1;34m'aaaa'\u001b[0m\u001b[1;33m)\u001b[0m\u001b[1;33m\u001b[0m\u001b[0m\n\u001b[1;32m----> 7\u001b[1;33m \u001b[1;32mprint\u001b[0m \u001b[0mdic2\u001b[0m\u001b[1;33m[\u001b[0m\u001b[1;34m'aaaa'\u001b[0m\u001b[1;33m]\u001b[0m\u001b[1;33m\u001b[0m\u001b[0m\n\u001b[0m",
        "\u001b[1;31mKeyError\u001b[0m: 'aaaa'"
       ]
      }
     ],
     "prompt_number": 51
    },
    {
     "cell_type": "code",
     "collapsed": false,
     "input": [
      "dic2.items()"
     ],
     "language": "python",
     "metadata": {},
     "outputs": [
      {
       "metadata": {},
       "output_type": "pyout",
       "prompt_number": 73,
       "text": [
        "[('dept', 'sales'), ('code', 6734), ('name', 'john')]"
       ]
      }
     ],
     "prompt_number": 73
    },
    {
     "cell_type": "code",
     "collapsed": false,
     "input": [
      "tinydict['aaaaa'] = 'salam'\n",
      "print tinydict\n",
      "# print dic2\n",
      "tinydict['name'] = 'Ali'\n",
      "tinydict.update(dic2)\n",
      "# print tinydict\n",
      "# print dic2"
     ],
     "language": "python",
     "metadata": {},
     "outputs": [
      {
       "ename": "NameError",
       "evalue": "name 'tinydict' is not defined",
       "output_type": "pyerr",
       "traceback": [
        "\u001b[1;31m---------------------------------------------------------------------------\u001b[0m\n\u001b[1;31mNameError\u001b[0m                                 Traceback (most recent call last)",
        "\u001b[1;32m<ipython-input-6-652c067919f4>\u001b[0m in \u001b[0;36m<module>\u001b[1;34m()\u001b[0m\n\u001b[1;32m----> 1\u001b[1;33m \u001b[0mtinydict\u001b[0m\u001b[1;33m[\u001b[0m\u001b[1;34m'aaaaa'\u001b[0m\u001b[1;33m]\u001b[0m \u001b[1;33m=\u001b[0m \u001b[1;34m'salam'\u001b[0m\u001b[1;33m\u001b[0m\u001b[0m\n\u001b[0m\u001b[0;32m      2\u001b[0m \u001b[1;32mprint\u001b[0m \u001b[0mtinydict\u001b[0m\u001b[1;33m\u001b[0m\u001b[0m\n\u001b[0;32m      3\u001b[0m \u001b[1;31m# print dic2\u001b[0m\u001b[1;33m\u001b[0m\u001b[1;33m\u001b[0m\u001b[0m\n\u001b[0;32m      4\u001b[0m \u001b[1;31m# tinydict['name'] = 'Ali'\u001b[0m\u001b[1;33m\u001b[0m\u001b[1;33m\u001b[0m\u001b[0m\n\u001b[0;32m      5\u001b[0m \u001b[0mtinydict\u001b[0m\u001b[1;33m.\u001b[0m\u001b[0mupdate\u001b[0m\u001b[1;33m(\u001b[0m\u001b[0mdic2\u001b[0m\u001b[1;33m)\u001b[0m\u001b[1;33m\u001b[0m\u001b[0m\n",
        "\u001b[1;31mNameError\u001b[0m: name 'tinydict' is not defined"
       ]
      }
     ],
     "prompt_number": 6
    },
    {
     "cell_type": "code",
     "collapsed": false,
     "input": [
      "print dic2.keys()\n",
      "print dic2.values()"
     ],
     "language": "python",
     "metadata": {},
     "outputs": [
      {
       "output_type": "stream",
       "stream": "stdout",
       "text": [
        "['dept', 'code', 'name']\n",
        "['sales', 6734, 'Ali']\n"
       ]
      }
     ],
     "prompt_number": 79
    },
    {
     "cell_type": "heading",
     "level": 1,
     "metadata": {},
     "source": [
      "Formatting Strings"
     ]
    },
    {
     "cell_type": "code",
     "collapsed": false,
     "input": [
      "x = 1\n",
      "y = 0.0000354\n",
      "z = 3.0\n",
      "s = \"my string\""
     ],
     "language": "python",
     "metadata": {},
     "outputs": [],
     "prompt_number": 11
    },
    {
     "cell_type": "code",
     "collapsed": false,
     "input": [
      "print \"x = {}, y = {}, z = {}, s = {}\".format(x, y, z, s)\n",
      "\n",
      "mean = 100\n",
      "var = 10,3453\n",
      "title = \"pdf of problem 1.b, mean = {}, var = {}\".format(mean, var)\n",
      "print title"
     ],
     "language": "python",
     "metadata": {},
     "outputs": [
      {
       "output_type": "stream",
       "stream": "stdout",
       "text": [
        "x = 1, y = 3.54e-05, z = 3.0, s = my string\n",
        "pdf of problem 1.b, mean = 100, var = (10, 3453)\n"
       ]
      }
     ],
     "prompt_number": 12
    },
    {
     "cell_type": "code",
     "collapsed": false,
     "input": [
      "print \"x = {0}, y = {1:6.2g}, z = {2:.3f}, s = {3}\".format(x, y, z, s)"
     ],
     "language": "python",
     "metadata": {},
     "outputs": [
      {
       "output_type": "stream",
       "stream": "stdout",
       "text": [
        "x = 1, y = 3.5e-05, z = 3.000, s = my string\n"
       ]
      }
     ],
     "prompt_number": 13
    },
    {
     "cell_type": "code",
     "collapsed": false,
     "input": [
      "print \"{:^80}\".format(\"centered string\")"
     ],
     "language": "python",
     "metadata": {},
     "outputs": [
      {
       "output_type": "stream",
       "stream": "stdout",
       "text": [
        "                                centered string                                 \n"
       ]
      }
     ],
     "prompt_number": 14
    },
    {
     "cell_type": "heading",
     "level": 1,
     "metadata": {},
     "source": [
      "Exceptions Handling"
     ]
    },
    {
     "cell_type": "code",
     "collapsed": false,
     "input": [
      "try:\n",
      "    You do your operations here\n",
      "except ExceptionI:\n",
      "    If there is ExceptionI, then execute this block.\n",
      "except ExceptionII:\n",
      "    If there is ExceptionII, then execute this block.\n",
      "    .\n",
      "    .\n",
      "    .\n",
      "else:\n",
      "    If there is no exception then execute this block.\n",
      "finally:\n",
      "    This would always be executed."
     ],
     "language": "python",
     "metadata": {},
     "outputs": []
    },
    {
     "cell_type": "code",
     "collapsed": false,
     "input": [
      "try:\n",
      "    a=1/0\n",
      "except ValueError:\n",
      "    print 'error1'\n",
      "except ZeroDivisionError as e:\n",
      "    print 'error2:', e\n",
      "except:\n",
      "    print 'other errors'\n",
      "else:\n",
      "    print 'else'\n",
      "finally:\n",
      "    print 'This would always be executed.'\n"
     ],
     "language": "python",
     "metadata": {},
     "outputs": [
      {
       "output_type": "stream",
       "stream": "stdout",
       "text": [
        "error2: integer division or modulo by zero\n",
        "This would always be executed.\n"
       ]
      }
     ],
     "prompt_number": 19
    },
    {
     "cell_type": "code",
     "collapsed": false,
     "input": [
      "try:\n",
      "    a=1/0\n",
      "except (RuntimeError, TypeError, NameError, ZeroDivisionError) as e:\n",
      "    print 'error', e"
     ],
     "language": "python",
     "metadata": {},
     "outputs": [
      {
       "output_type": "stream",
       "stream": "stdout",
       "text": [
        "error integer division or modulo by zero\n"
       ]
      }
     ],
     "prompt_number": 17
    },
    {
     "cell_type": "code",
     "collapsed": false,
     "input": [
      "import sys\n",
      "\n",
      "try:\n",
      "    f = open('myfile.txt')\n",
      "    s = f.readline()\n",
      "    i = int(s.strip())\n",
      "except IOError as e:\n",
      "    print \"I/O error({0}): {1}\".format(e.errno, e.strerror)\n",
      "except ValueError:\n",
      "    print \"Could not convert data to an integer.\"\n",
      "except:\n",
      "    print \"Unexpected error:\", sys.exc_info()[0]"
     ],
     "language": "python",
     "metadata": {},
     "outputs": [
      {
       "output_type": "stream",
       "stream": "stdout",
       "text": [
        "I/O error(2): No such file or directory\n"
       ]
      }
     ],
     "prompt_number": 21
    },
    {
     "cell_type": "heading",
     "level": 3,
     "metadata": {},
     "source": [
      "Predefined Clean-up Actions"
     ]
    },
    {
     "cell_type": "code",
     "collapsed": false,
     "input": [
      "with open(\"data.txt\") as f:\n",
      "    for line in f:\n",
      "        print line"
     ],
     "language": "python",
     "metadata": {},
     "outputs": [
      {
       "output_type": "stream",
       "stream": "stdout",
       "text": [
        "1.000000000000000000e+01\n",
        "\n",
        "3.000000000000000000e+00\n",
        "\n",
        "8.000000000000000000e+00\n",
        "\n",
        "0.000000000000000000e+00\n",
        "\n",
        "1.900000000000000000e+01\n",
        "\n",
        "1.000000000000000000e+01\n",
        "\n",
        "1.100000000000000000e+01\n",
        "\n",
        "9.000000000000000000e+00\n",
        "\n",
        "1.000000000000000000e+01\n",
        "\n",
        "6.000000000000000000e+00\n",
        "\n",
        "0.000000000000000000e+00\n",
        "\n",
        "2.000000000000000000e+01\n",
        "\n",
        "1.200000000000000000e+01\n",
        "\n",
        "7.000000000000000000e+00\n",
        "\n",
        "1.400000000000000000e+01\n",
        "\n"
       ]
      }
     ],
     "prompt_number": 16
    },
    {
     "cell_type": "heading",
     "level": 1,
     "metadata": {},
     "source": [
      "Input and Output (I/O)"
     ]
    },
    {
     "cell_type": "code",
     "collapsed": false,
     "input": [
      "try: f = open(\"./sample.txt\", \"w\")   # open for writing -- any file of the same name will be overwritten\n",
      "except: \n",
      "    print \"cannot open the file\"\n",
      "\n",
      "print f"
     ],
     "language": "python",
     "metadata": {},
     "outputs": []
    },
    {
     "cell_type": "code",
     "collapsed": false,
     "input": [
      "f.write(\"this is my first write\\n\")\n",
      "f.close()"
     ],
     "language": "python",
     "metadata": {},
     "outputs": []
    },
    {
     "cell_type": "code",
     "collapsed": false,
     "input": [
      "try: f = open(\"./test.txt\", \"r\")\n",
      "except:\n",
      "    print \"error: cannot open the file\"\n",
      "    \n",
      "for line in f.readlines():\n",
      "    print line"
     ],
     "language": "python",
     "metadata": {},
     "outputs": []
    }
   ],
   "metadata": {}
  }
 ]
}