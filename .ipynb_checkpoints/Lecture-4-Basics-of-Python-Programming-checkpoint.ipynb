{
 "metadata": {
  "name": "",
  "signature": "sha256:836c04b92e9fbd6cafd3fdaec533b1241f7b7bea7fa3be953e126fe1fca2dca6"
 },
 "nbformat": 3,
 "nbformat_minor": 0,
 "worksheets": [
  {
   "cells": [
    {
     "cell_type": "heading",
     "level": 1,
     "metadata": {},
     "source": [
      "Basics of Python Programming"
     ]
    },
    {
     "cell_type": "heading",
     "level": 1,
     "metadata": {},
     "source": [
      "Functions"
     ]
    },
    {
     "cell_type": "code",
     "collapsed": false,
     "input": [
      "def functionname(parameters):\n",
      "   # function body\n",
      "   return x"
     ],
     "language": "python",
     "metadata": {},
     "outputs": []
    },
    {
     "cell_type": "code",
     "collapsed": false,
     "input": [
      "def printme(string, arg2, arg3='World'):\n",
      "   \"This prints a passed string into this function\"\n",
      "   print string, arg2, arg3\n",
      "#    return"
     ],
     "language": "python",
     "metadata": {},
     "outputs": [],
     "prompt_number": 10
    },
    {
     "cell_type": "code",
     "collapsed": false,
     "input": [
      "printme('Hello', 'How are you?')"
     ],
     "language": "python",
     "metadata": {},
     "outputs": [
      {
       "output_type": "stream",
       "stream": "stdout",
       "text": [
        "Hello How are you? World\n"
       ]
      }
     ],
     "prompt_number": 11
    },
    {
     "cell_type": "code",
     "collapsed": false,
     "input": [
      "printme(string='Hello')\n",
      "list(('asdasd','ali'))"
     ],
     "language": "python",
     "metadata": {},
     "outputs": [
      {
       "metadata": {},
       "output_type": "pyout",
       "prompt_number": 14,
       "text": [
        "['asdasd', 'ali']"
       ]
      }
     ],
     "prompt_number": 14
    },
    {
     "cell_type": "code",
     "collapsed": false,
     "input": [
      "type(None)"
     ],
     "language": "python",
     "metadata": {},
     "outputs": [
      {
       "metadata": {},
       "output_type": "pyout",
       "prompt_number": 42,
       "text": [
        "NoneType"
       ]
      }
     ],
     "prompt_number": 42
    },
    {
     "cell_type": "code",
     "collapsed": false,
     "input": [
      "printme()"
     ],
     "language": "python",
     "metadata": {},
     "outputs": [
      {
       "ename": "TypeError",
       "evalue": "printme() takes exactly 1 argument (0 given)",
       "output_type": "pyerr",
       "traceback": [
        "\u001b[1;31m---------------------------------------------------------------------------\u001b[0m\n\u001b[1;31mTypeError\u001b[0m                                 Traceback (most recent call last)",
        "\u001b[1;32m<ipython-input-87-aa61170fee10>\u001b[0m in \u001b[0;36m<module>\u001b[1;34m()\u001b[0m\n\u001b[1;32m----> 1\u001b[1;33m \u001b[0mprintme\u001b[0m\u001b[1;33m(\u001b[0m\u001b[1;33m)\u001b[0m\u001b[1;33m\u001b[0m\u001b[0m\n\u001b[0m",
        "\u001b[1;31mTypeError\u001b[0m: printme() takes exactly 1 argument (0 given)"
       ]
      }
     ],
     "prompt_number": 87
    },
    {
     "cell_type": "code",
     "collapsed": false,
     "input": [
      "def printinfo( name, age ):\n",
      "   \"This prints a passed info into this function\"\n",
      "   print \"Name: \", name;\n",
      "   print \"Age \", age;\n",
      "   return;\n",
      "\n",
      "# Now you can call printinfo function\n",
      "printinfo( age=50, name=\"miki\" );"
     ],
     "language": "python",
     "metadata": {},
     "outputs": [
      {
       "output_type": "stream",
       "stream": "stdout",
       "text": [
        "Name:  miki\n",
        "Age  50\n"
       ]
      }
     ],
     "prompt_number": 89
    },
    {
     "cell_type": "code",
     "collapsed": false,
     "input": [
      "def printinfo( name, age = 35 ):\n",
      "   \"This prints a passed info into this function\"\n",
      "   print \"Name: \", name\n",
      "   print \"Age \", age\n",
      "   return\n",
      "\n",
      "# Now you can call printinfo function\n",
      "printinfo( age=50, name=\"miki\" )\n",
      "printinfo( name=\"miki\" )"
     ],
     "language": "python",
     "metadata": {},
     "outputs": [
      {
       "output_type": "stream",
       "stream": "stdout",
       "text": [
        "Name:  miki\n",
        "Age  50\n",
        "Name:  miki\n",
        "Age  35\n"
       ]
      }
     ],
     "prompt_number": 91
    },
    {
     "cell_type": "code",
     "collapsed": false,
     "input": [
      "def printinfo( arg1, *vartuple ):\n",
      "   \"This prints a variable passed arguments\"\n",
      "   print \"Output is: \"\n",
      "   print 'arg1: ', arg1\n",
      "   for var in vartuple:\n",
      "      print 'vartuple: ', var\n",
      "   return\n",
      "\n",
      "# Now you can call printinfo function\n",
      "printinfo( 10 )\n",
      "printinfo( 70, 60, 50 )"
     ],
     "language": "python",
     "metadata": {},
     "outputs": [
      {
       "output_type": "stream",
       "stream": "stdout",
       "text": [
        "Output is: \n",
        "arg1:  10\n",
        "Output is: \n",
        "arg1:  70\n",
        "vartuple:  60\n",
        "vartuple:  50\n"
       ]
      }
     ],
     "prompt_number": 94
    },
    {
     "cell_type": "heading",
     "level": 2,
     "metadata": {},
     "source": [
      "Example: Index Fanction"
     ]
    },
    {
     "cell_type": "code",
     "collapsed": false,
     "input": [
      "def index(sampleList, obj):\n",
      "    indexList = []\n",
      "    for i in xrange(len(sampleList)):\n",
      "        if sampleList[i] == obj:\n",
      "            indexList.append(i)\n",
      "    return indexList"
     ],
     "language": "python",
     "metadata": {},
     "outputs": [],
     "prompt_number": 76
    },
    {
     "cell_type": "code",
     "collapsed": false,
     "input": [
      "nList = [12,3,2,4253,554,65,7,43,4253,4]\n",
      "index(nList, 4253)"
     ],
     "language": "python",
     "metadata": {},
     "outputs": [
      {
       "metadata": {},
       "output_type": "pyout",
       "prompt_number": 78,
       "text": [
        "[3, 8]"
       ]
      }
     ],
     "prompt_number": 78
    },
    {
     "cell_type": "code",
     "collapsed": false,
     "input": [
      "%timeit index(nList, 4253)"
     ],
     "language": "python",
     "metadata": {},
     "outputs": [
      {
       "output_type": "stream",
       "stream": "stdout",
       "text": [
        "1000000 loops, best of 3: 1.36 \u00b5s per loop\n"
       ]
      }
     ],
     "prompt_number": 74
    },
    {
     "cell_type": "code",
     "collapsed": false,
     "input": [
      "%timeit nList.index(4253)"
     ],
     "language": "python",
     "metadata": {},
     "outputs": [
      {
       "output_type": "stream",
       "stream": "stdout",
       "text": [
        "1000000 loops, best of 3: 503 ns per loop\n"
       ]
      }
     ],
     "prompt_number": 75
    },
    {
     "cell_type": "heading",
     "level": 2,
     "metadata": {},
     "source": [
      "Example: Maximum Fanction"
     ]
    },
    {
     "cell_type": "code",
     "collapsed": false,
     "input": [
      "def maxNumber1(numberList):\n",
      "    \"This function returns maximum nuber of a list of numbers.\"\n",
      "    if type(numberList) != list:\n",
      "        print 'Function argument is not a list.'\n",
      "        return\n",
      "\n",
      "    maxNumber = numberList[0]\n",
      "    for n in numberList:\n",
      "        if n > maxNumber:\n",
      "            maxNumber = n\n",
      "    \n",
      "    return maxNumber"
     ],
     "language": "python",
     "metadata": {},
     "outputs": [],
     "prompt_number": 58
    },
    {
     "cell_type": "code",
     "collapsed": false,
     "input": [
      "def maxNumber(numberList, numberList2=None):\n",
      "    \"This function returns maximum nuber of a list of numbers.\"\n",
      "#     if numberList2 != None:\n",
      "#         if type(numberList) != list or type(numberList2) != list:\n",
      "#             print 'Function argument is not a list.'\n",
      "#             return\n",
      "#     else:\n",
      "#         if type(numberList) != list:\n",
      "#             print 'Function argument is not a list.'\n",
      "#             return\n",
      "\n",
      "    maxN = maxNumber1(numberList)\n",
      "    maxN2 = numberList[0]\n",
      "    if numberList2 != None:\n",
      "        maxN2 = maxNumber1(numberList2)\n",
      "        \n",
      "    if maxN < maxN2:\n",
      "        maxN = maxN2\n",
      "    \n",
      "    return maxN"
     ],
     "language": "python",
     "metadata": {},
     "outputs": [],
     "prompt_number": 66
    },
    {
     "cell_type": "code",
     "collapsed": false,
     "input": [
      "def maxNumber(numberList, numberList2=None):\n",
      "    \"This function returns maximum nuber of a list of numbers.\"\n",
      "    if numberList2 != None:\n",
      "        if type(numberList) != list or type(numberList2) != list:\n",
      "            print 'Function argument is not a list.'\n",
      "            return\n",
      "    else:\n",
      "        if type(numberList) != list:\n",
      "            print 'Function argument is not a list.'\n",
      "            return\n",
      "\n",
      "#     if numberList2==None or type(numberList) != list or type(numberList2) != list:\n",
      "\n",
      "        \n",
      "#     if type(numberList2) != list:\n",
      "#         print 'Function second argument is not a list.'\n",
      "#         return\n",
      "\n",
      "    numberList = numberList + numberList2\n",
      "\n",
      "    maxNumber = numberList[0]\n",
      "    for n in numberList:\n",
      "        if n > maxNumber:\n",
      "            maxNumber = n\n",
      "    \n",
      "    return maxNumber"
     ],
     "language": "python",
     "metadata": {},
     "outputs": [],
     "prompt_number": 56
    },
    {
     "cell_type": "code",
     "collapsed": false,
     "input": [
      "nList = [1,2,3,2,1,-4,1008,-100, 10.1, -5.4]\n",
      "nList2 = [1,2,3,2,1,-4,500,456,666666,-100, 10.1, -5.4]\n",
      "maxNumber(nList)"
     ],
     "language": "python",
     "metadata": {},
     "outputs": [
      {
       "metadata": {},
       "output_type": "pyout",
       "prompt_number": 67,
       "text": [
        "1008"
       ]
      }
     ],
     "prompt_number": 67
    },
    {
     "cell_type": "code",
     "collapsed": false,
     "input": [
      "maxNumber('asdasd')"
     ],
     "language": "python",
     "metadata": {},
     "outputs": [
      {
       "output_type": "stream",
       "stream": "stdout",
       "text": [
        "if1\n",
        "Function argument is not a list.\n"
       ]
      }
     ],
     "prompt_number": 41
    },
    {
     "cell_type": "code",
     "collapsed": false,
     "input": [
      "%timeit max(nList)"
     ],
     "language": "python",
     "metadata": {},
     "outputs": [
      {
       "output_type": "stream",
       "stream": "stdout",
       "text": [
        "1000000 loops, best of 3: 644 ns per loop\n"
       ]
      }
     ],
     "prompt_number": 21
    },
    {
     "cell_type": "code",
     "collapsed": false,
     "input": [
      "%timeit maxNumber(nList)"
     ],
     "language": "python",
     "metadata": {},
     "outputs": [
      {
       "output_type": "stream",
       "stream": "stdout",
       "text": [
        "1000000 loops, best of 3: 1.37 \u00b5s per loop\n"
       ]
      }
     ],
     "prompt_number": 22
    },
    {
     "cell_type": "heading",
     "level": 1,
     "metadata": {},
     "source": [
      "Example: Fibonacci Sequence"
     ]
    },
    {
     "cell_type": "code",
     "collapsed": false,
     "input": [
      "def FibonacciSequence(n):\n",
      "    global f\n",
      "    \"n should be larger than 2\"\n",
      "    f = [1,1]\n",
      "    for i in xrange(2,n):\n",
      "        f.append(f[i-1]+f[i-2])\n",
      "        \n",
      "    return f\n",
      "\n",
      "def FibonacciNumber(n):\n",
      "    global f\n",
      "    \"n should be larger than 2\"\n",
      "    f = [1,1]\n",
      "    for i in xrange(2,n+1):\n",
      "        f.append(f[i-1]+f[i-2])\n",
      "        \n",
      "    return f[n]"
     ],
     "language": "python",
     "metadata": {},
     "outputs": [],
     "prompt_number": 8
    },
    {
     "cell_type": "code",
     "collapsed": false,
     "input": [
      "FibonacciSequence(11)"
     ],
     "language": "python",
     "metadata": {},
     "outputs": [
      {
       "metadata": {},
       "output_type": "pyout",
       "prompt_number": 9,
       "text": [
        "[1, 1, 2, 3, 5, 8, 13, 21, 34, 55, 89]"
       ]
      }
     ],
     "prompt_number": 9
    },
    {
     "cell_type": "code",
     "collapsed": false,
     "input": [
      "FibonacciNumber(10)"
     ],
     "language": "python",
     "metadata": {},
     "outputs": [
      {
       "metadata": {},
       "output_type": "pyout",
       "prompt_number": 10,
       "text": [
        "89"
       ]
      }
     ],
     "prompt_number": 10
    },
    {
     "cell_type": "heading",
     "level": 3,
     "metadata": {},
     "source": [
      "Sum 2 numbers function"
     ]
    },
    {
     "cell_type": "code",
     "collapsed": false,
     "input": [
      "def sum2numbers( n1, n2 ):\n",
      "   total = n1 + n2\n",
      "   return total;"
     ],
     "language": "python",
     "metadata": {},
     "outputs": [],
     "prompt_number": 109
    },
    {
     "cell_type": "code",
     "collapsed": false,
     "input": [
      "print sum2numbers(1,4)"
     ],
     "language": "python",
     "metadata": {},
     "outputs": [
      {
       "output_type": "stream",
       "stream": "stdout",
       "text": [
        "5\n"
       ]
      }
     ],
     "prompt_number": 113
    },
    {
     "cell_type": "code",
     "collapsed": false,
     "input": [
      "print total"
     ],
     "language": "python",
     "metadata": {},
     "outputs": [
      {
       "ename": "NameError",
       "evalue": "name 'total' is not defined",
       "output_type": "pyerr",
       "traceback": [
        "\u001b[1;31m---------------------------------------------------------------------------\u001b[0m\n\u001b[1;31mNameError\u001b[0m                                 Traceback (most recent call last)",
        "\u001b[1;32m<ipython-input-114-48bc4a0e5c7c>\u001b[0m in \u001b[0;36m<module>\u001b[1;34m()\u001b[0m\n\u001b[1;32m----> 1\u001b[1;33m \u001b[1;32mprint\u001b[0m \u001b[0mtotal\u001b[0m\u001b[1;33m\u001b[0m\u001b[0m\n\u001b[0m",
        "\u001b[1;31mNameError\u001b[0m: name 'total' is not defined"
       ]
      }
     ],
     "prompt_number": 114
    },
    {
     "cell_type": "heading",
     "level": 1,
     "metadata": {},
     "source": [
      "Global vs. Local variables"
     ]
    },
    {
     "cell_type": "code",
     "collapsed": false,
     "input": [
      "def sum2numbers( n1, n2 ):\n",
      "   global total\n",
      "   total = n1 + n2\n",
      "   return total;"
     ],
     "language": "python",
     "metadata": {},
     "outputs": [],
     "prompt_number": 5
    },
    {
     "cell_type": "code",
     "collapsed": false,
     "input": [
      "print sum2numbers(1,4)\n",
      "print total"
     ],
     "language": "python",
     "metadata": {},
     "outputs": [
      {
       "output_type": "stream",
       "stream": "stdout",
       "text": [
        "5\n",
        "5\n"
       ]
      }
     ],
     "prompt_number": 6
    },
    {
     "cell_type": "heading",
     "level": 1,
     "metadata": {},
     "source": [
      "Modules"
     ]
    },
    {
     "cell_type": "code",
     "collapsed": false,
     "input": [
      "import random\n",
      "import math"
     ],
     "language": "python",
     "metadata": {},
     "outputs": [],
     "prompt_number": 1
    },
    {
     "cell_type": "code",
     "collapsed": false,
     "input": [
      "math.sin(math.pi)"
     ],
     "language": "python",
     "metadata": {},
     "outputs": [
      {
       "metadata": {},
       "output_type": "pyout",
       "prompt_number": 2,
       "text": [
        "1.2246467991473532e-16"
       ]
      }
     ],
     "prompt_number": 2
    },
    {
     "cell_type": "code",
     "collapsed": false,
     "input": [
      "from math import sin, exp, pi, e"
     ],
     "language": "python",
     "metadata": {},
     "outputs": [],
     "prompt_number": 81
    },
    {
     "cell_type": "code",
     "collapsed": false,
     "input": [
      "print pi\n",
      "print e"
     ],
     "language": "python",
     "metadata": {},
     "outputs": [
      {
       "output_type": "stream",
       "stream": "stdout",
       "text": [
        "3.14159265359\n",
        "2.71828182846\n"
       ]
      }
     ],
     "prompt_number": 82
    },
    {
     "cell_type": "code",
     "collapsed": false,
     "input": [
      "from math import *"
     ],
     "language": "python",
     "metadata": {},
     "outputs": [],
     "prompt_number": 3
    },
    {
     "cell_type": "code",
     "collapsed": false,
     "input": [
      "sin(pi)"
     ],
     "language": "python",
     "metadata": {},
     "outputs": [
      {
       "metadata": {},
       "output_type": "pyout",
       "prompt_number": 4,
       "text": [
        "1.2246467991473532e-16"
       ]
      }
     ],
     "prompt_number": 4
    },
    {
     "cell_type": "code",
     "collapsed": false,
     "input": [
      "import random as rnd"
     ],
     "language": "python",
     "metadata": {},
     "outputs": [],
     "prompt_number": 105
    },
    {
     "cell_type": "code",
     "collapsed": false,
     "input": [
      "rnd.random()"
     ],
     "language": "python",
     "metadata": {},
     "outputs": [
      {
       "metadata": {},
       "output_type": "pyout",
       "prompt_number": 106,
       "text": [
        "0.612054283218451"
       ]
      }
     ],
     "prompt_number": 106
    },
    {
     "cell_type": "code",
     "collapsed": false,
     "input": [
      "dir(math)"
     ],
     "language": "python",
     "metadata": {},
     "outputs": [
      {
       "metadata": {},
       "output_type": "pyout",
       "prompt_number": 107,
       "text": [
        "['__doc__',\n",
        " '__name__',\n",
        " '__package__',\n",
        " 'acos',\n",
        " 'acosh',\n",
        " 'asin',\n",
        " 'asinh',\n",
        " 'atan',\n",
        " 'atan2',\n",
        " 'atanh',\n",
        " 'ceil',\n",
        " 'copysign',\n",
        " 'cos',\n",
        " 'cosh',\n",
        " 'degrees',\n",
        " 'e',\n",
        " 'erf',\n",
        " 'erfc',\n",
        " 'exp',\n",
        " 'expm1',\n",
        " 'fabs',\n",
        " 'factorial',\n",
        " 'floor',\n",
        " 'fmod',\n",
        " 'frexp',\n",
        " 'fsum',\n",
        " 'gamma',\n",
        " 'hypot',\n",
        " 'isinf',\n",
        " 'isnan',\n",
        " 'ldexp',\n",
        " 'lgamma',\n",
        " 'log',\n",
        " 'log10',\n",
        " 'log1p',\n",
        " 'modf',\n",
        " 'pi',\n",
        " 'pow',\n",
        " 'radians',\n",
        " 'sin',\n",
        " 'sinh',\n",
        " 'sqrt',\n",
        " 'tan',\n",
        " 'tanh',\n",
        " 'trunc']"
       ]
      }
     ],
     "prompt_number": 107
    },
    {
     "cell_type": "heading",
     "level": 1,
     "metadata": {},
     "source": [
      "Generating a list of random numbers"
     ]
    },
    {
     "cell_type": "code",
     "collapsed": false,
     "input": [
      "import random"
     ],
     "language": "python",
     "metadata": {},
     "outputs": [],
     "prompt_number": 54
    },
    {
     "cell_type": "code",
     "collapsed": false,
     "input": [
      "random.random()"
     ],
     "language": "python",
     "metadata": {},
     "outputs": [
      {
       "metadata": {},
       "output_type": "pyout",
       "prompt_number": 55,
       "text": [
        "0.2679049373150896"
       ]
      }
     ],
     "prompt_number": 55
    },
    {
     "cell_type": "code",
     "collapsed": false,
     "input": [
      "randList = []\n",
      "\n",
      "for i in xrange(10):\n",
      "    r = random.random()\n",
      "    randList.append(r)\n",
      "print randList"
     ],
     "language": "python",
     "metadata": {},
     "outputs": [
      {
       "output_type": "stream",
       "stream": "stdout",
       "text": [
        "[0.8633311679956774, 0.01736624100549944, 0.11851905018182296, 0.9493539775476089, 0.8128443422917399, 0.4446739608893687, 0.4173690025124369, 0.9627349034204805, 0.7399682864622342, 0.7791056966454071]\n"
       ]
      }
     ],
     "prompt_number": 66
    },
    {
     "cell_type": "code",
     "collapsed": false,
     "input": [
      "for i in xrange(10):\n",
      "    print randList[i]"
     ],
     "language": "python",
     "metadata": {},
     "outputs": [
      {
       "output_type": "stream",
       "stream": "stdout",
       "text": [
        "0.863331167996\n",
        "0.0173662410055\n",
        "0.118519050182\n",
        "0.949353977548\n",
        "0.812844342292\n",
        "0.444673960889\n",
        "0.417369002512\n",
        "0.96273490342\n",
        "0.739968286462\n",
        "0.779105696645\n"
       ]
      }
     ],
     "prompt_number": 67
    },
    {
     "cell_type": "code",
     "collapsed": false,
     "input": [],
     "language": "python",
     "metadata": {},
     "outputs": []
    }
   ],
   "metadata": {}
  }
 ]
}