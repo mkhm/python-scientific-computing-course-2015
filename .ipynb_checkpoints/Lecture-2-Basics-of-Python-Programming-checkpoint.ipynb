{
 "metadata": {
  "name": "",
  "signature": "sha256:eb0def72fc0165de2b3aaadcd65a25c3d6b0269d30893fad852d7f73ee2fddb9"
 },
 "nbformat": 3,
 "nbformat_minor": 0,
 "worksheets": [
  {
   "cells": [
    {
     "cell_type": "heading",
     "level": 1,
     "metadata": {},
     "source": [
      "Basics of Python Programming"
     ]
    },
    {
     "cell_type": "code",
     "collapsed": false,
     "input": [
      "%matplotlib inline"
     ],
     "language": "python",
     "metadata": {},
     "outputs": [],
     "prompt_number": 9
    },
    {
     "cell_type": "heading",
     "level": 2,
     "metadata": {},
     "source": [
      "Mathematical Functions"
     ]
    },
    {
     "cell_type": "code",
     "collapsed": false,
     "input": [
      "import math\n",
      "from math import sin, pi, sqrt, e, log, log10, tan, cos\n",
      "print sin(pi)*sqrt(tan(sqrt(2*pi/e)))/log(cos(log10(sqrt(25*pi**28/e**5))))"
     ],
     "language": "python",
     "metadata": {},
     "outputs": [
      {
       "output_type": "stream",
       "stream": "stdout",
       "text": [
        "-1.27644911186e-14\n"
       ]
      }
     ],
     "prompt_number": 1
    },
    {
     "cell_type": "code",
     "collapsed": false,
     "input": [
      "dir(math)"
     ],
     "language": "python",
     "metadata": {},
     "outputs": [
      {
       "metadata": {},
       "output_type": "pyout",
       "prompt_number": 16,
       "text": [
        "['__doc__',\n",
        " '__name__',\n",
        " '__package__',\n",
        " 'acos',\n",
        " 'acosh',\n",
        " 'asin',\n",
        " 'asinh',\n",
        " 'atan',\n",
        " 'atan2',\n",
        " 'atanh',\n",
        " 'ceil',\n",
        " 'copysign',\n",
        " 'cos',\n",
        " 'cosh',\n",
        " 'degrees',\n",
        " 'e',\n",
        " 'erf',\n",
        " 'erfc',\n",
        " 'exp',\n",
        " 'expm1',\n",
        " 'fabs',\n",
        " 'factorial',\n",
        " 'floor',\n",
        " 'fmod',\n",
        " 'frexp',\n",
        " 'fsum',\n",
        " 'gamma',\n",
        " 'hypot',\n",
        " 'isinf',\n",
        " 'isnan',\n",
        " 'ldexp',\n",
        " 'lgamma',\n",
        " 'log',\n",
        " 'log10',\n",
        " 'log1p',\n",
        " 'modf',\n",
        " 'pi',\n",
        " 'pow',\n",
        " 'radians',\n",
        " 'sin',\n",
        " 'sinh',\n",
        " 'sqrt',\n",
        " 'tan',\n",
        " 'tanh',\n",
        " 'trunc']"
       ]
      }
     ],
     "prompt_number": 16
    },
    {
     "cell_type": "heading",
     "level": 1,
     "metadata": {},
     "source": [
      "Some ipython magics"
     ]
    },
    {
     "cell_type": "code",
     "collapsed": false,
     "input": [
      "%%time\n",
      "\n",
      "print 1"
     ],
     "language": "python",
     "metadata": {},
     "outputs": [
      {
       "output_type": "stream",
       "stream": "stdout",
       "text": [
        "1\n",
        "Wall time: 0 ns\n"
       ]
      }
     ],
     "prompt_number": 1
    },
    {
     "cell_type": "code",
     "collapsed": false,
     "input": [
      "%timeit round(2.22222,2)"
     ],
     "language": "python",
     "metadata": {},
     "outputs": [
      {
       "output_type": "stream",
       "stream": "stdout",
       "text": [
        "1000000 loops, best of 3: 1.42 \u00b5s per loop\n"
       ]
      }
     ],
     "prompt_number": 2
    },
    {
     "cell_type": "code",
     "collapsed": false,
     "input": [
      "%timeit print 1"
     ],
     "language": "python",
     "metadata": {},
     "outputs": []
    },
    {
     "cell_type": "heading",
     "level": 1,
     "metadata": {},
     "source": [
      "if statement"
     ]
    },
    {
     "cell_type": "code",
     "collapsed": false,
     "input": [
      "var = 1\n",
      "if var==1:\n",
      "    print 'Salam'\n",
      "    print 'var==1'\n",
      "elif var<=1000:\n",
      "    var = 2\n",
      "elif var<5:\n",
      "    print 'var>5'\n",
      "elif var<2:\n",
      "    print 'var<2'\n",
      "else:\n",
      "    print 'other'\n",
      "    \n",
      "    \n",
      "    \n",
      "if var=='':\n",
      "    print 'var is empty string'"
     ],
     "language": "python",
     "metadata": {},
     "outputs": [
      {
       "output_type": "stream",
       "stream": "stdout",
       "text": [
        "Salam\n",
        "var==1\n"
       ]
      }
     ],
     "prompt_number": 4
    },
    {
     "cell_type": "code",
     "collapsed": false,
     "input": [
      "n = 100000\n",
      "if n<0:\n",
      "    print 'Agha dorost vared kon.!!!!!!! Khodeti'\n",
      "else:\n",
      "    if n<250:\n",
      "        print 'Khat 11.'\n",
      "    elif n<350:\n",
      "        print 'you can go by Bus.'\n",
      "    elif n<1000:\n",
      "        print 'you can go by Taxi.'\n",
      "    elif n<20000:\n",
      "        print 'you can go by Tel Taxi.'\n",
      "    else:\n",
      "        print 'You are kheyli pooldar.'"
     ],
     "language": "python",
     "metadata": {},
     "outputs": [],
     "prompt_number": 16
    },
    {
     "cell_type": "code",
     "collapsed": false,
     "input": [
      "n=1000\n",
      "if 100<n<=1000:\n",
      "    print 'wow'"
     ],
     "language": "python",
     "metadata": {},
     "outputs": [
      {
       "output_type": "stream",
       "stream": "stdout",
       "text": [
        "wow\n"
       ]
      }
     ],
     "prompt_number": 2
    },
    {
     "cell_type": "code",
     "collapsed": false,
     "input": [
      "n=100\n",
      "if n==100:\n",
      "    print '1'\n",
      "if n>5:\n",
      "    print '2'"
     ],
     "language": "python",
     "metadata": {},
     "outputs": [
      {
       "output_type": "stream",
       "stream": "stdout",
       "text": [
        "1\n",
        "2\n"
       ]
      }
     ],
     "prompt_number": 19
    },
    {
     "cell_type": "heading",
     "level": 1,
     "metadata": {},
     "source": [
      "Loops"
     ]
    },
    {
     "cell_type": "heading",
     "level": 3,
     "metadata": {},
     "source": [
      "While"
     ]
    },
    {
     "cell_type": "code",
     "collapsed": false,
     "input": [
      "while expression:\n",
      "   statement(s)"
     ],
     "language": "python",
     "metadata": {},
     "outputs": []
    },
    {
     "cell_type": "code",
     "collapsed": false,
     "input": [
      "name='Ali'\n",
      "print 'Your name is', name\n",
      "print 'Your name is ' + name"
     ],
     "language": "python",
     "metadata": {},
     "outputs": [
      {
       "output_type": "stream",
       "stream": "stdout",
       "text": [
        "Your name is Ali\n",
        "Your name is Ali\n"
       ]
      }
     ],
     "prompt_number": 27
    },
    {
     "cell_type": "code",
     "collapsed": false,
     "input": [
      "nameList = ['Ali', 'Javad', 'Hossein', 'John']\n",
      "print nameList"
     ],
     "language": "python",
     "metadata": {},
     "outputs": [
      {
       "output_type": "stream",
       "stream": "stdout",
       "text": [
        "['Ali', 'Javad', 'Hossein', 'John']\n"
       ]
      }
     ],
     "prompt_number": 25
    },
    {
     "cell_type": "code",
     "collapsed": false,
     "input": [
      "count = 0\n",
      "while count < 9:\n",
      "    print 'The count is:', count\n",
      "    if count<3:\n",
      "        print 'count<3'\n",
      "    \n",
      "    count += 1\n",
      "else:\n",
      "    print count\n",
      "\n",
      "print \"Good bye!\""
     ],
     "language": "python",
     "metadata": {},
     "outputs": [
      {
       "output_type": "stream",
       "stream": "stdout",
       "text": [
        "The count is: 0\n",
        "count<3\n",
        "The count is: 1\n",
        "count<3\n",
        "The count is: 2\n",
        "count<3\n",
        "The count is: 3\n",
        "The count is: 4\n",
        "The count is: 5\n",
        "The count is: 6\n",
        "The count is: 7\n",
        "The count is: 8\n",
        "9\n",
        "Good bye!\n"
       ]
      }
     ],
     "prompt_number": 32
    },
    {
     "cell_type": "heading",
     "level": 3,
     "metadata": {},
     "source": [
      "For"
     ]
    },
    {
     "cell_type": "code",
     "collapsed": false,
     "input": [
      "for iterating_var in sequence:\n",
      "   statements(s)"
     ],
     "language": "python",
     "metadata": {},
     "outputs": []
    },
    {
     "cell_type": "code",
     "collapsed": false,
     "input": [
      "pythonList = ['P', 'y', 't', 'h', 'o', 'n']"
     ],
     "language": "python",
     "metadata": {},
     "outputs": [],
     "prompt_number": 36
    },
    {
     "cell_type": "code",
     "collapsed": false,
     "input": [
      "type('Python')"
     ],
     "language": "python",
     "metadata": {},
     "outputs": [
      {
       "metadata": {},
       "output_type": "pyout",
       "prompt_number": 35,
       "text": [
        "str"
       ]
      }
     ],
     "prompt_number": 35
    },
    {
     "cell_type": "code",
     "collapsed": false,
     "input": [
      "type(pythonList)"
     ],
     "language": "python",
     "metadata": {},
     "outputs": [
      {
       "metadata": {},
       "output_type": "pyout",
       "prompt_number": 37,
       "text": [
        "list"
       ]
      }
     ],
     "prompt_number": 37
    },
    {
     "cell_type": "code",
     "collapsed": false,
     "input": [
      "mylist = 'Python'\n",
      "for x in mylist:     # First Example\n",
      "   print 'Current Letter :', x\n",
      "\n",
      "# fruits = ['banana', 'apple',  'mango']\n",
      "asd = ['banana', 'apple',  'mango']\n",
      "asd = [1,2,3,7,8,9,1,5,1]\n",
      "asd = range(10)\n",
      "for x in asd:        # Second Example\n",
      "   print 'Current fruit :', x\n",
      "\n",
      "print \"Good bye!\""
     ],
     "language": "python",
     "metadata": {},
     "outputs": [
      {
       "output_type": "stream",
       "stream": "stdout",
       "text": [
        "Current Letter : P\n",
        "Current Letter : y\n",
        "Current Letter : t\n",
        "Current Letter : h\n",
        "Current Letter : o\n",
        "Current Letter : n\n",
        "Current fruit : 1\n",
        "Current fruit : 2\n",
        "Current fruit : 3\n",
        "Current fruit : 7\n",
        "Current fruit : 8\n",
        "Current fruit : 9\n",
        "Current fruit : 1\n",
        "Current fruit : 5\n",
        "Current fruit : 1\n",
        "Good bye!\n"
       ]
      }
     ],
     "prompt_number": 43
    },
    {
     "cell_type": "code",
     "collapsed": false,
     "input": [
      "range(10) # range(start, end, step)"
     ],
     "language": "python",
     "metadata": {},
     "outputs": [
      {
       "metadata": {},
       "output_type": "pyout",
       "prompt_number": 47,
       "text": [
        "[0, 1, 2, 3, 4, 5, 6, 7, 8, 9]"
       ]
      }
     ],
     "prompt_number": 47
    },
    {
     "cell_type": "code",
     "collapsed": false,
     "input": [
      "range(2, 10)"
     ],
     "language": "python",
     "metadata": {},
     "outputs": [
      {
       "metadata": {},
       "output_type": "pyout",
       "prompt_number": 48,
       "text": [
        "[2, 3, 4, 5, 6, 7, 8, 9]"
       ]
      }
     ],
     "prompt_number": 48
    },
    {
     "cell_type": "code",
     "collapsed": false,
     "input": [
      "range(0, 10, 2)"
     ],
     "language": "python",
     "metadata": {},
     "outputs": [
      {
       "metadata": {},
       "output_type": "pyout",
       "prompt_number": 50,
       "text": [
        "[0, 2, 4, 6, 8]"
       ]
      }
     ],
     "prompt_number": 50
    },
    {
     "cell_type": "code",
     "collapsed": false,
     "input": [
      "fruits = ['banana', 'apple',  'mango']\n",
      "\n",
      "for f in fruits:\n",
      "   print 'Current fruit :', f\n",
      "\n",
      "print \"Good bye!\""
     ],
     "language": "python",
     "metadata": {},
     "outputs": [
      {
       "output_type": "stream",
       "stream": "stdout",
       "text": [
        "Current fruit : banana\n",
        "Current fruit : apple\n",
        "Current fruit : mango\n",
        "Good bye!\n"
       ]
      }
     ],
     "prompt_number": 38
    },
    {
     "cell_type": "code",
     "collapsed": false,
     "input": [
      "fruits = ['banana', 'apple',  'mango']\n",
      "for index in range(len(fruits)):\n",
      "   print 'Current fruit :', fruits[index]\n",
      "\n",
      "print \"Good bye!\""
     ],
     "language": "python",
     "metadata": {},
     "outputs": [
      {
       "output_type": "stream",
       "stream": "stdout",
       "text": [
        "Current fruit : banana\n",
        "Current fruit : apple\n",
        "Current fruit : mango\n",
        "Good bye!\n"
       ]
      }
     ],
     "prompt_number": 39
    },
    {
     "cell_type": "markdown",
     "metadata": {},
     "source": [
      "###Difference between _range()_ and _xrange()_ function###"
     ]
    },
    {
     "cell_type": "markdown",
     "metadata": {},
     "source": [
      "- **_range()_** generates a **list** but **_xrange()_** is a **Generator**."
     ]
    },
    {
     "cell_type": "code",
     "collapsed": false,
     "input": [
      "for i in range(10):\n",
      "    print i"
     ],
     "language": "python",
     "metadata": {},
     "outputs": [
      {
       "output_type": "stream",
       "stream": "stdout",
       "text": [
        "0\n",
        "1\n",
        "2\n",
        "3\n",
        "4\n",
        "5\n",
        "6\n",
        "7\n",
        "8\n",
        "9\n"
       ]
      }
     ],
     "prompt_number": 51
    },
    {
     "cell_type": "code",
     "collapsed": false,
     "input": [
      "for i in xrange(1,10):\n",
      "    print i"
     ],
     "language": "python",
     "metadata": {},
     "outputs": [
      {
       "output_type": "stream",
       "stream": "stdout",
       "text": [
        "1\n",
        "2\n",
        "3\n",
        "4\n",
        "5\n",
        "6\n",
        "7\n",
        "8\n",
        "9\n"
       ]
      }
     ],
     "prompt_number": 53
    },
    {
     "cell_type": "code",
     "collapsed": false,
     "input": [
      "print range(5)\n",
      "print xrange(5)\n",
      "print '........WoW........'"
     ],
     "language": "python",
     "metadata": {},
     "outputs": [
      {
       "output_type": "stream",
       "stream": "stdout",
       "text": [
        "[0, 1, 2, 3, 4]\n",
        "xrange(5)\n",
        "........WoW........\n"
       ]
      }
     ],
     "prompt_number": 5
    },
    {
     "cell_type": "heading",
     "level": 2,
     "metadata": {},
     "source": [
      "continue, break"
     ]
    },
    {
     "cell_type": "code",
     "collapsed": false,
     "input": [
      "list1 = [1,2,6,7,'aaa', 23,4,34,23,4,234,'aaa']\n",
      "search = 'aaa'\n",
      "for i in xrange(len(list1)):\n",
      "    if list1[i] == search:\n",
      "        index = i\n",
      "        break\n",
      "\n",
      "print index"
     ],
     "language": "python",
     "metadata": {},
     "outputs": [
      {
       "output_type": "stream",
       "stream": "stdout",
       "text": [
        "4\n"
       ]
      }
     ],
     "prompt_number": 3
    },
    {
     "cell_type": "code",
     "collapsed": false,
     "input": [
      "n = 20\n",
      "for i in xrange(n):\n",
      "    if i % 3 == 1:\n",
      "        continue\n",
      "    print i"
     ],
     "language": "python",
     "metadata": {},
     "outputs": [
      {
       "output_type": "stream",
       "stream": "stdout",
       "text": [
        "0\n",
        "2\n",
        "3\n",
        "5\n",
        "6\n",
        "8\n",
        "9\n",
        "11\n",
        "12\n",
        "14\n",
        "15\n",
        "17\n",
        "18\n"
       ]
      }
     ],
     "prompt_number": 4
    },
    {
     "cell_type": "code",
     "collapsed": false,
     "input": [
      "n = 20\n",
      "for i in xrange(n):\n",
      "    if i % 3 == 1:\n",
      "        pass\n",
      "#         continue\n",
      "    print i"
     ],
     "language": "python",
     "metadata": {},
     "outputs": [
      {
       "output_type": "stream",
       "stream": "stdout",
       "text": [
        "0\n",
        "1\n",
        "2\n",
        "3\n",
        "4\n",
        "5\n",
        "6\n",
        "7\n",
        "8\n",
        "9\n",
        "10\n",
        "11\n",
        "12\n",
        "13\n",
        "14\n",
        "15\n",
        "16\n",
        "17\n",
        "18\n",
        "19\n"
       ]
      }
     ],
     "prompt_number": 5
    },
    {
     "cell_type": "heading",
     "level": 1,
     "metadata": {},
     "source": [
      "Excersice"
     ]
    },
    {
     "cell_type": "markdown",
     "metadata": {},
     "source": [
      "Write a program for each problem bellow:\n",
      "- Find n prime numbers starting from 1\n",
      "- Generate a sequence contains n Fibonacci numbers\n",
      "- Find maximum of numbers in a list\n",
      "- Find number of letters of a word\n",
      "- Exchange values of two variables"
     ]
    },
    {
     "cell_type": "heading",
     "level": 2,
     "metadata": {},
     "source": [
      "Solution to some Excersices"
     ]
    },
    {
     "cell_type": "markdown",
     "metadata": {},
     "source": [
      "- ###Prime Numbers"
     ]
    },
    {
     "cell_type": "code",
     "collapsed": false,
     "input": [
      "i = 2\n",
      "n = 100\n",
      "while(i < n):\n",
      "   j = 2\n",
      "   while(j <= (i/j)):\n",
      "      if not(i%j): break\n",
      "      j = j + 1\n",
      "   if (j > i/j) : print i, \" is prime\"\n",
      "   i = i + 1\n",
      "\n",
      "print \"Good bye!\""
     ],
     "language": "python",
     "metadata": {},
     "outputs": [
      {
       "output_type": "stream",
       "stream": "stdout",
       "text": [
        "2  is prime\n",
        "3  is prime\n",
        "5  is prime\n",
        "7  is prime\n",
        "11  is prime\n",
        "13  is prime\n",
        "17  is prime\n",
        "19  is prime\n",
        "23  is prime\n",
        "29  is prime\n",
        "31  is prime\n",
        "37  is prime\n",
        "41  is prime\n",
        "43  is prime\n",
        "47  is prime\n",
        "53  is prime\n",
        "59  is prime\n",
        "61  is prime\n",
        "67  is prime\n",
        "71  is prime\n",
        "73  is prime\n",
        "79  is prime\n",
        "83  is prime\n",
        "89  is prime\n",
        "97  is prime\n",
        "Good bye!\n"
       ]
      }
     ],
     "prompt_number": 7
    },
    {
     "cell_type": "markdown",
     "metadata": {},
     "source": [
      "- ###Fibonacci Sequence"
     ]
    },
    {
     "cell_type": "code",
     "collapsed": false,
     "input": [
      "n = 10\n",
      "fibonacci_numbers = [1,1]\n",
      "for i in xrange(2, n):\n",
      "    fibonacci_numbers.append(fibonacci_numbers[i-1]+fibonacci_numbers[i-2])\n",
      "    \n",
      "print fibonacci_numbers"
     ],
     "language": "python",
     "metadata": {},
     "outputs": [
      {
       "output_type": "stream",
       "stream": "stdout",
       "text": [
        "[1, 1, 2, 3, 5, 8, 13, 21, 34, 55]\n"
       ]
      }
     ],
     "prompt_number": 41
    },
    {
     "cell_type": "code",
     "collapsed": false,
     "input": [],
     "language": "python",
     "metadata": {},
     "outputs": []
    }
   ],
   "metadata": {}
  }
 ]
}